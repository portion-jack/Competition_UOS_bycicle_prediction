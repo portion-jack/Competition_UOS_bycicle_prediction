{
 "cells": [
  {
   "cell_type": "code",
   "execution_count": 8,
   "metadata": {},
   "outputs": [],
   "source": [
    "import pandas as pd"
   ]
  },
  {
   "cell_type": "code",
   "execution_count": 9,
   "metadata": {},
   "outputs": [],
   "source": [
    "data=pd.read_csv('pps_data.csv',index_col=0)\n",
    "target=pd.read_csv('pps_target.csv',index_col=0)\n",
    "sample_submission=pd.read_csv('sample_submission_raw.csv',index_col=0)"
   ]
  },
  {
   "cell_type": "code",
   "execution_count": 10,
   "metadata": {},
   "outputs": [],
   "source": [
    "data.index = pd.to_datetime(data.index,format='%Y-%m-%d')\n",
    "target.index = pd.to_datetime(target.index,format='%Y-%m-%d')"
   ]
  },
  {
   "cell_type": "code",
   "execution_count": 11,
   "metadata": {},
   "outputs": [],
   "source": [
    "data_mms=data.copy()"
   ]
  },
  {
   "cell_type": "code",
   "execution_count": 12,
   "metadata": {},
   "outputs": [],
   "source": [
    "df_2018_raw = data[data.index.year == 2018]\n",
    "df_2019_raw = data[data.index.year == 2019]\n",
    "df_2020_raw = data[data.index.year == 2020]\n",
    "df_2021_raw = data[data.index.year == 2021]"
   ]
  },
  {
   "cell_type": "code",
   "execution_count": null,
   "metadata": {},
   "outputs": [],
   "source": [
    "from sklearn.preprocessing import MinMaxScaler\n",
    "mms_2018 = MinMaxScaler()\n",
    "mms_2019 = MinMaxScaler()\n",
    "mms_2020 = MinMaxScaler()\n",
    "mms_2021 = MinMaxScaler()\n",
    "\n",
    "\n",
    "df_2018_raw.iloc[:,:4] = mms_2018.fit_transform(df_2018_raw.iloc[:,:4])\n",
    "df_2019_raw.iloc[:,:4] = mms_2019.fit_transform(df_2019_raw.iloc[:,:4])\n",
    "df_2020_raw.iloc[:,:4] = mms_2020.fit_transform(df_2020_raw.iloc[:,:4])\n",
    "df_2021_raw.iloc[:,:4] = mms_2021.fit_transform(df_2021_raw.iloc[:,:4])"
   ]
  },
  {
   "cell_type": "code",
   "execution_count": 23,
   "metadata": {},
   "outputs": [],
   "source": [
    "df_2018_week_mean=df_2018_raw.groupby(['주','주말평일'])[['광진구','동대문구','성동구','중랑구']].mean().reset_index()\n",
    "df_2019_week_mean=df_2019_raw.groupby(['주','주말평일'])[['광진구','동대문구','성동구','중랑구']].mean().reset_index()\n",
    "df_2020_week_mean=df_2020_raw.groupby(['주','주말평일'])[['광진구','동대문구','성동구','중랑구']].mean().reset_index()\n",
    "df_2021_week_mean=df_2021_raw.groupby(['주','주말평일'])[['광진구','동대문구','성동구','중랑구']].mean().reset_index()"
   ]
  },
  {
   "cell_type": "code",
   "execution_count": 29,
   "metadata": {},
   "outputs": [],
   "source": [
    "temp_1=pd.merge(df_2018_week_mean.iloc[:,[0,1,2]],df_2019_week_mean.iloc[:,[0,1,2]],on=['주','주말평일'])\n",
    "temp_2=pd.merge(df_2020_week_mean.iloc[:,[0,1,2]],df_2021_week_mean.iloc[:,[0,1,2]],on=['주','주말평일'])\n",
    "result_1=pd.merge(temp_1,temp_2,on=['주','주말평일'])"
   ]
  },
  {
   "cell_type": "code",
   "execution_count": 30,
   "metadata": {},
   "outputs": [],
   "source": [
    "temp_1=pd.merge(df_2018_week_mean.iloc[:,[0,1,3]],df_2019_week_mean.iloc[:,[0,1,3]],on=['주','주말평일'])\n",
    "temp_2=pd.merge(df_2020_week_mean.iloc[:,[0,1,3]],df_2021_week_mean.iloc[:,[0,1,3]],on=['주','주말평일'])\n",
    "result_2=pd.merge(temp_1,temp_2,on=['주','주말평일'])"
   ]
  },
  {
   "cell_type": "code",
   "execution_count": 31,
   "metadata": {},
   "outputs": [],
   "source": [
    "temp_1=pd.merge(df_2018_week_mean.iloc[:,[0,1,4]],df_2019_week_mean.iloc[:,[0,1,4]],on=['주','주말평일'])\n",
    "temp_2=pd.merge(df_2020_week_mean.iloc[:,[0,1,4]],df_2021_week_mean.iloc[:,[0,1,4]],on=['주','주말평일'])\n",
    "result_3=pd.merge(temp_1,temp_2,on=['주','주말평일'])"
   ]
  },
  {
   "cell_type": "code",
   "execution_count": 32,
   "metadata": {},
   "outputs": [],
   "source": [
    "temp_1=pd.merge(df_2018_week_mean.iloc[:,[0,1,5]],df_2019_week_mean.iloc[:,[0,1,5]],on=['주','주말평일'])\n",
    "temp_2=pd.merge(df_2020_week_mean.iloc[:,[0,1,5]],df_2021_week_mean.iloc[:,[0,1,5]],on=['주','주말평일'])\n",
    "result_4=pd.merge(temp_1,temp_2,on=['주','주말평일'])"
   ]
  },
  {
   "cell_type": "code",
   "execution_count": 39,
   "metadata": {},
   "outputs": [
    {
     "data": {
      "text/html": [
       "<div>\n",
       "<style scoped>\n",
       "    .dataframe tbody tr th:only-of-type {\n",
       "        vertical-align: middle;\n",
       "    }\n",
       "\n",
       "    .dataframe tbody tr th {\n",
       "        vertical-align: top;\n",
       "    }\n",
       "\n",
       "    .dataframe thead th {\n",
       "        text-align: right;\n",
       "    }\n",
       "</style>\n",
       "<table border=\"1\" class=\"dataframe\">\n",
       "  <thead>\n",
       "    <tr style=\"text-align: right;\">\n",
       "      <th></th>\n",
       "      <th>주</th>\n",
       "      <th>주말평일</th>\n",
       "      <th>광진구_x_x</th>\n",
       "      <th>광진구_y_x</th>\n",
       "      <th>광진구_x_y</th>\n",
       "      <th>광진구_y_y</th>\n",
       "      <th>mean_광진구</th>\n",
       "    </tr>\n",
       "  </thead>\n",
       "  <tbody>\n",
       "    <tr>\n",
       "      <th>0</th>\n",
       "      <td>1</td>\n",
       "      <td>주말</td>\n",
       "      <td>0.053458</td>\n",
       "      <td>0.106525</td>\n",
       "      <td>0.206283</td>\n",
       "      <td>0.043940</td>\n",
       "      <td>0.102551</td>\n",
       "    </tr>\n",
       "    <tr>\n",
       "      <th>1</th>\n",
       "      <td>1</td>\n",
       "      <td>평일</td>\n",
       "      <td>0.092121</td>\n",
       "      <td>0.166236</td>\n",
       "      <td>0.265149</td>\n",
       "      <td>0.109433</td>\n",
       "      <td>0.158235</td>\n",
       "    </tr>\n",
       "    <tr>\n",
       "      <th>2</th>\n",
       "      <td>2</td>\n",
       "      <td>주말</td>\n",
       "      <td>0.040793</td>\n",
       "      <td>0.135649</td>\n",
       "      <td>0.202795</td>\n",
       "      <td>0.106087</td>\n",
       "      <td>0.121331</td>\n",
       "    </tr>\n",
       "    <tr>\n",
       "      <th>3</th>\n",
       "      <td>2</td>\n",
       "      <td>평일</td>\n",
       "      <td>0.051469</td>\n",
       "      <td>0.162591</td>\n",
       "      <td>0.174121</td>\n",
       "      <td>0.128487</td>\n",
       "      <td>0.129167</td>\n",
       "    </tr>\n",
       "    <tr>\n",
       "      <th>4</th>\n",
       "      <td>3</td>\n",
       "      <td>주말</td>\n",
       "      <td>0.066783</td>\n",
       "      <td>0.132767</td>\n",
       "      <td>0.199364</td>\n",
       "      <td>0.273314</td>\n",
       "      <td>0.168057</td>\n",
       "    </tr>\n",
       "    <tr>\n",
       "      <th>...</th>\n",
       "      <td>...</td>\n",
       "      <td>...</td>\n",
       "      <td>...</td>\n",
       "      <td>...</td>\n",
       "      <td>...</td>\n",
       "      <td>...</td>\n",
       "      <td>...</td>\n",
       "    </tr>\n",
       "    <tr>\n",
       "      <th>98</th>\n",
       "      <td>50</td>\n",
       "      <td>주말</td>\n",
       "      <td>0.149184</td>\n",
       "      <td>0.287884</td>\n",
       "      <td>0.209993</td>\n",
       "      <td>0.117106</td>\n",
       "      <td>0.191042</td>\n",
       "    </tr>\n",
       "    <tr>\n",
       "      <th>99</th>\n",
       "      <td>50</td>\n",
       "      <td>평일</td>\n",
       "      <td>0.227133</td>\n",
       "      <td>0.321788</td>\n",
       "      <td>0.392735</td>\n",
       "      <td>0.362214</td>\n",
       "      <td>0.325968</td>\n",
       "    </tr>\n",
       "    <tr>\n",
       "      <th>100</th>\n",
       "      <td>51</td>\n",
       "      <td>주말</td>\n",
       "      <td>0.190559</td>\n",
       "      <td>0.227301</td>\n",
       "      <td>0.189571</td>\n",
       "      <td>0.099637</td>\n",
       "      <td>0.176767</td>\n",
       "    </tr>\n",
       "    <tr>\n",
       "      <th>101</th>\n",
       "      <td>51</td>\n",
       "      <td>평일</td>\n",
       "      <td>0.277343</td>\n",
       "      <td>0.320417</td>\n",
       "      <td>0.222765</td>\n",
       "      <td>0.382370</td>\n",
       "      <td>0.300724</td>\n",
       "    </tr>\n",
       "    <tr>\n",
       "      <th>102</th>\n",
       "      <td>52</td>\n",
       "      <td>평일</td>\n",
       "      <td>0.175466</td>\n",
       "      <td>0.265535</td>\n",
       "      <td>0.310805</td>\n",
       "      <td>0.260548</td>\n",
       "      <td>0.253089</td>\n",
       "    </tr>\n",
       "  </tbody>\n",
       "</table>\n",
       "<p>103 rows × 7 columns</p>\n",
       "</div>"
      ],
      "text/plain": [
       "      주 주말평일   광진구_x_x   광진구_y_x   광진구_x_y   광진구_y_y  mean_광진구\n",
       "0     1   주말  0.053458  0.106525  0.206283  0.043940  0.102551\n",
       "1     1   평일  0.092121  0.166236  0.265149  0.109433  0.158235\n",
       "2     2   주말  0.040793  0.135649  0.202795  0.106087  0.121331\n",
       "3     2   평일  0.051469  0.162591  0.174121  0.128487  0.129167\n",
       "4     3   주말  0.066783  0.132767  0.199364  0.273314  0.168057\n",
       "..   ..  ...       ...       ...       ...       ...       ...\n",
       "98   50   주말  0.149184  0.287884  0.209993  0.117106  0.191042\n",
       "99   50   평일  0.227133  0.321788  0.392735  0.362214  0.325968\n",
       "100  51   주말  0.190559  0.227301  0.189571  0.099637  0.176767\n",
       "101  51   평일  0.277343  0.320417  0.222765  0.382370  0.300724\n",
       "102  52   평일  0.175466  0.265535  0.310805  0.260548  0.253089\n",
       "\n",
       "[103 rows x 7 columns]"
      ]
     },
     "execution_count": 39,
     "metadata": {},
     "output_type": "execute_result"
    }
   ],
   "source": [
    "result_1"
   ]
  },
  {
   "cell_type": "code",
   "execution_count": 36,
   "metadata": {},
   "outputs": [],
   "source": [
    "result_1['mean_광진구'] = result_1.iloc[:,2:].mean(axis=1)\n",
    "result_2['mean_동대문구'] = result_2.iloc[:,2:].mean(axis=1)\n",
    "result_3['mean_성동구'] = result_3.iloc[:,2:].mean(axis=1)\n",
    "result_4['mean_중랑구'] = result_4.iloc[:,2:].mean(axis=1)"
   ]
  },
  {
   "cell_type": "code",
   "execution_count": 41,
   "metadata": {},
   "outputs": [],
   "source": [
    "result=pd.concat([result_1.loc[:,['주','주말평일','mean_광진구']],result_2.loc[:,['주','주말평일','mean_동대문구']],result_3.loc[:,['주','주말평일','mean_성동구']],result_4.loc[:,['주','주말평일','mean_중랑구']]],axis=1)\n",
    "result=result.iloc[:,[0,1,2,5,8,11]]\n",
    "result"
   ]
  },
  {
   "cell_type": "code",
   "execution_count": 54,
   "metadata": {},
   "outputs": [],
   "source": [
    "df_2018_raw = data[data.index.year == 2018]\n",
    "df_2019_raw = data[data.index.year == 2019]\n",
    "df_2020_raw = data[data.index.year == 2020]\n",
    "df_2021_raw = data[data.index.year == 2021]"
   ]
  },
  {
   "cell_type": "code",
   "execution_count": 55,
   "metadata": {},
   "outputs": [],
   "source": [
    "df_2018_week_mean=df_2018_raw.groupby(['주','주말평일'])[['광진구','동대문구','성동구','중랑구']].mean().reset_index()\n",
    "df_2019_week_mean=df_2019_raw.groupby(['주','주말평일'])[['광진구','동대문구','성동구','중랑구']].mean().reset_index()\n",
    "df_2020_week_mean=df_2020_raw.groupby(['주','주말평일'])[['광진구','동대문구','성동구','중랑구']].mean().reset_index()\n",
    "df_2021_week_mean=df_2021_raw.groupby(['주','주말평일'])[['광진구','동대문구','성동구','중랑구']].mean().reset_index()"
   ]
  },
  {
   "cell_type": "code",
   "execution_count": 120,
   "metadata": {},
   "outputs": [
    {
     "data": {
      "text/html": [
       "<div>\n",
       "<style scoped>\n",
       "    .dataframe tbody tr th:only-of-type {\n",
       "        vertical-align: middle;\n",
       "    }\n",
       "\n",
       "    .dataframe tbody tr th {\n",
       "        vertical-align: top;\n",
       "    }\n",
       "\n",
       "    .dataframe thead th {\n",
       "        text-align: right;\n",
       "    }\n",
       "</style>\n",
       "<table border=\"1\" class=\"dataframe\">\n",
       "  <thead>\n",
       "    <tr style=\"text-align: right;\">\n",
       "      <th></th>\n",
       "      <th>주</th>\n",
       "      <th>주말평일</th>\n",
       "      <th>mean_광진구</th>\n",
       "      <th>mean_동대문구</th>\n",
       "      <th>mean_성동구</th>\n",
       "      <th>mean_중랑구</th>\n",
       "    </tr>\n",
       "  </thead>\n",
       "  <tbody>\n",
       "    <tr>\n",
       "      <th>0</th>\n",
       "      <td>1</td>\n",
       "      <td>주말</td>\n",
       "      <td>2.354750</td>\n",
       "      <td>2.081679</td>\n",
       "      <td>1.927279</td>\n",
       "      <td>1.309386</td>\n",
       "    </tr>\n",
       "    <tr>\n",
       "      <th>1</th>\n",
       "      <td>1</td>\n",
       "      <td>평일</td>\n",
       "      <td>3.115328</td>\n",
       "      <td>2.676816</td>\n",
       "      <td>2.850890</td>\n",
       "      <td>1.652131</td>\n",
       "    </tr>\n",
       "    <tr>\n",
       "      <th>2</th>\n",
       "      <td>2</td>\n",
       "      <td>주말</td>\n",
       "      <td>2.611259</td>\n",
       "      <td>2.258149</td>\n",
       "      <td>2.111478</td>\n",
       "      <td>1.484104</td>\n",
       "    </tr>\n",
       "    <tr>\n",
       "      <th>3</th>\n",
       "      <td>2</td>\n",
       "      <td>평일</td>\n",
       "      <td>2.718293</td>\n",
       "      <td>2.346412</td>\n",
       "      <td>2.547078</td>\n",
       "      <td>1.460186</td>\n",
       "    </tr>\n",
       "    <tr>\n",
       "      <th>4</th>\n",
       "      <td>3</td>\n",
       "      <td>주말</td>\n",
       "      <td>3.249491</td>\n",
       "      <td>2.643855</td>\n",
       "      <td>2.823316</td>\n",
       "      <td>1.795445</td>\n",
       "    </tr>\n",
       "    <tr>\n",
       "      <th>...</th>\n",
       "      <td>...</td>\n",
       "      <td>...</td>\n",
       "      <td>...</td>\n",
       "      <td>...</td>\n",
       "      <td>...</td>\n",
       "      <td>...</td>\n",
       "    </tr>\n",
       "    <tr>\n",
       "      <th>98</th>\n",
       "      <td>50</td>\n",
       "      <td>주말</td>\n",
       "      <td>3.563438</td>\n",
       "      <td>3.239325</td>\n",
       "      <td>2.922461</td>\n",
       "      <td>2.168124</td>\n",
       "    </tr>\n",
       "    <tr>\n",
       "      <th>99</th>\n",
       "      <td>50</td>\n",
       "      <td>평일</td>\n",
       "      <td>5.406391</td>\n",
       "      <td>4.796311</td>\n",
       "      <td>4.661332</td>\n",
       "      <td>3.032257</td>\n",
       "    </tr>\n",
       "    <tr>\n",
       "      <th>100</th>\n",
       "      <td>51</td>\n",
       "      <td>주말</td>\n",
       "      <td>3.368464</td>\n",
       "      <td>3.020358</td>\n",
       "      <td>2.641571</td>\n",
       "      <td>2.078827</td>\n",
       "    </tr>\n",
       "    <tr>\n",
       "      <th>101</th>\n",
       "      <td>51</td>\n",
       "      <td>평일</td>\n",
       "      <td>5.061588</td>\n",
       "      <td>4.522870</td>\n",
       "      <td>4.532095</td>\n",
       "      <td>2.894529</td>\n",
       "    </tr>\n",
       "    <tr>\n",
       "      <th>102</th>\n",
       "      <td>52</td>\n",
       "      <td>평일</td>\n",
       "      <td>4.410938</td>\n",
       "      <td>3.876750</td>\n",
       "      <td>3.863583</td>\n",
       "      <td>2.548415</td>\n",
       "    </tr>\n",
       "  </tbody>\n",
       "</table>\n",
       "<p>103 rows × 6 columns</p>\n",
       "</div>"
      ],
      "text/plain": [
       "      주 주말평일  mean_광진구  mean_동대문구  mean_성동구  mean_중랑구\n",
       "0     1   주말  2.354750   2.081679  1.927279  1.309386\n",
       "1     1   평일  3.115328   2.676816  2.850890  1.652131\n",
       "2     2   주말  2.611259   2.258149  2.111478  1.484104\n",
       "3     2   평일  2.718293   2.346412  2.547078  1.460186\n",
       "4     3   주말  3.249491   2.643855  2.823316  1.795445\n",
       "..   ..  ...       ...        ...       ...       ...\n",
       "98   50   주말  3.563438   3.239325  2.922461  2.168124\n",
       "99   50   평일  5.406391   4.796311  4.661332  3.032257\n",
       "100  51   주말  3.368464   3.020358  2.641571  2.078827\n",
       "101  51   평일  5.061588   4.522870  4.532095  2.894529\n",
       "102  52   평일  4.410938   3.876750  3.863583  2.548415\n",
       "\n",
       "[103 rows x 6 columns]"
      ]
     },
     "execution_count": 120,
     "metadata": {},
     "output_type": "execute_result"
    }
   ],
   "source": [
    "from sklearn.preprocessing import MinMaxScaler\n",
    "mms = MinMaxScaler()\n",
    "mms.fit(df_2021_week_mean.iloc[:,2:])\n",
    "\n",
    "result_temp = result.copy()\n",
    "\n",
    "result_temp.iloc[:,2:] = mms.inverse_transform(result_temp.iloc[:,2:].values)\n",
    "\n",
    "result_temp"
   ]
  },
  {
   "cell_type": "code",
   "execution_count": 121,
   "metadata": {},
   "outputs": [],
   "source": [
    "# df_2018_week_mean\n",
    "# df_2019_week_mean\n",
    "# df_2020_week_mean\n",
    "# df_2021_week_mean"
   ]
  },
  {
   "cell_type": "code",
   "execution_count": 122,
   "metadata": {},
   "outputs": [],
   "source": [
    "temp_1=pd.merge(df_2018_raw.reset_index(),df_2019_raw.reset_index(),on=['주','주말평일'])\n",
    "temp_2=pd.merge(df_2020_raw.reset_index(),df_2021_raw.reset_index(),on=['주','주말평일'])\n",
    "\n",
    "diff_df=pd.merge(temp_1,temp_2,on=['주','주말평일'])\n",
    "\n",
    "df_diff_광진구=diff_df.loc[:,[i for i in diff_df.columns if i.startswith('광진구')] + ['주','주말평일']].drop_duplicates(['주','주말평일']).reset_index(drop=True)\n",
    "df_diff_동대문구=diff_df.loc[:,[i for i in diff_df.columns if i.startswith('동대문구')] + ['주','주말평일']].drop_duplicates(['주','주말평일']).reset_index(drop=True)\n",
    "df_diff_성동구=diff_df.loc[:,[i for i in diff_df.columns if i.startswith('성동구')] + ['주','주말평일']].drop_duplicates(['주','주말평일']).reset_index(drop=True)\n",
    "df_diff_중랑구=diff_df.loc[:,[i for i in diff_df.columns if i.startswith('중랑구')] + ['주','주말평일']].drop_duplicates(['주','주말평일']).reset_index(drop=True)"
   ]
  },
  {
   "cell_type": "code",
   "execution_count": 123,
   "metadata": {},
   "outputs": [],
   "source": [
    "result_main=result_temp.copy()"
   ]
  },
  {
   "cell_type": "code",
   "execution_count": 124,
   "metadata": {},
   "outputs": [],
   "source": [
    "df_diff_광진구['diff_mean']=df_diff_광진구.iloc[:,:-2].diff(axis=1).fillna(0).mean(axis=1)\n",
    "result_temp=result_temp.merge(df_diff_광진구.iloc[:,-3:],on=['주','주말평일'])\n",
    "result_temp['mean_광진구']=result_temp['mean_광진구'] + result_temp['diff_mean']\n",
    "result_temp.drop('diff_mean',axis=1,inplace=True)\n",
    "\n",
    "df_diff_동대문구['diff_mean']=df_diff_동대문구.iloc[:,:-2].diff(axis=1).fillna(0).mean(axis=1)\n",
    "result_temp=result_temp.merge(df_diff_동대문구.iloc[:,-3:],on=['주','주말평일'])\n",
    "result_temp['mean_동대문구']=result_temp['mean_동대문구'] + result_temp['diff_mean']\n",
    "result_temp.drop('diff_mean',axis=1,inplace=True)\n",
    "\n",
    "df_diff_성동구['diff_mean']=df_diff_성동구.iloc[:,:-2].diff(axis=1).fillna(0).mean(axis=1)\n",
    "result_temp=result_temp.merge(df_diff_성동구.iloc[:,-3:],on=['주','주말평일'])\n",
    "result_temp['mean_성동구']=result_temp['mean_성동구'] + result_temp['diff_mean']\n",
    "result_temp.drop('diff_mean',axis=1,inplace=True)\n",
    "\n",
    "df_diff_중랑구['diff_mean']=df_diff_중랑구.iloc[:,:-2].diff(axis=1).fillna(0).mean(axis=1)\n",
    "result_temp=result_temp.merge(df_diff_중랑구.iloc[:,-3:],on=['주','주말평일'])\n",
    "result_temp['mean_중랑구']=result_temp['mean_중랑구'] + result_temp['diff_mean']\n",
    "result_temp.drop('diff_mean',axis=1,inplace=True)"
   ]
  },
  {
   "cell_type": "code",
   "execution_count": 125,
   "metadata": {},
   "outputs": [
    {
     "data": {
      "text/html": [
       "<div>\n",
       "<style scoped>\n",
       "    .dataframe tbody tr th:only-of-type {\n",
       "        vertical-align: middle;\n",
       "    }\n",
       "\n",
       "    .dataframe tbody tr th {\n",
       "        vertical-align: top;\n",
       "    }\n",
       "\n",
       "    .dataframe thead th {\n",
       "        text-align: right;\n",
       "    }\n",
       "</style>\n",
       "<table border=\"1\" class=\"dataframe\">\n",
       "  <thead>\n",
       "    <tr style=\"text-align: right;\">\n",
       "      <th></th>\n",
       "      <th>주</th>\n",
       "      <th>주말평일</th>\n",
       "      <th>mean_광진구</th>\n",
       "      <th>mean_동대문구</th>\n",
       "      <th>mean_성동구</th>\n",
       "      <th>mean_중랑구</th>\n",
       "    </tr>\n",
       "  </thead>\n",
       "  <tbody>\n",
       "    <tr>\n",
       "      <th>0</th>\n",
       "      <td>1</td>\n",
       "      <td>주말</td>\n",
       "      <td>2.432750</td>\n",
       "      <td>2.225679</td>\n",
       "      <td>1.976779</td>\n",
       "      <td>1.410886</td>\n",
       "    </tr>\n",
       "    <tr>\n",
       "      <th>1</th>\n",
       "      <td>1</td>\n",
       "      <td>평일</td>\n",
       "      <td>3.714828</td>\n",
       "      <td>3.202316</td>\n",
       "      <td>3.325890</td>\n",
       "      <td>2.014631</td>\n",
       "    </tr>\n",
       "    <tr>\n",
       "      <th>2</th>\n",
       "      <td>2</td>\n",
       "      <td>주말</td>\n",
       "      <td>3.016759</td>\n",
       "      <td>2.681149</td>\n",
       "      <td>2.452978</td>\n",
       "      <td>1.787604</td>\n",
       "    </tr>\n",
       "    <tr>\n",
       "      <th>3</th>\n",
       "      <td>2</td>\n",
       "      <td>평일</td>\n",
       "      <td>2.986793</td>\n",
       "      <td>2.653412</td>\n",
       "      <td>2.796078</td>\n",
       "      <td>1.705686</td>\n",
       "    </tr>\n",
       "    <tr>\n",
       "      <th>4</th>\n",
       "      <td>3</td>\n",
       "      <td>주말</td>\n",
       "      <td>4.030491</td>\n",
       "      <td>3.328855</td>\n",
       "      <td>3.551316</td>\n",
       "      <td>2.306945</td>\n",
       "    </tr>\n",
       "    <tr>\n",
       "      <th>...</th>\n",
       "      <td>...</td>\n",
       "      <td>...</td>\n",
       "      <td>...</td>\n",
       "      <td>...</td>\n",
       "      <td>...</td>\n",
       "      <td>...</td>\n",
       "    </tr>\n",
       "    <tr>\n",
       "      <th>98</th>\n",
       "      <td>50</td>\n",
       "      <td>주말</td>\n",
       "      <td>3.751938</td>\n",
       "      <td>3.409825</td>\n",
       "      <td>3.048461</td>\n",
       "      <td>2.390124</td>\n",
       "    </tr>\n",
       "    <tr>\n",
       "      <th>99</th>\n",
       "      <td>50</td>\n",
       "      <td>평일</td>\n",
       "      <td>6.311391</td>\n",
       "      <td>5.748811</td>\n",
       "      <td>5.326332</td>\n",
       "      <td>3.609257</td>\n",
       "    </tr>\n",
       "    <tr>\n",
       "      <th>100</th>\n",
       "      <td>51</td>\n",
       "      <td>주말</td>\n",
       "      <td>3.365464</td>\n",
       "      <td>3.060858</td>\n",
       "      <td>2.549571</td>\n",
       "      <td>2.152327</td>\n",
       "    </tr>\n",
       "    <tr>\n",
       "      <th>101</th>\n",
       "      <td>51</td>\n",
       "      <td>평일</td>\n",
       "      <td>5.863088</td>\n",
       "      <td>5.408870</td>\n",
       "      <td>5.243595</td>\n",
       "      <td>3.459529</td>\n",
       "    </tr>\n",
       "    <tr>\n",
       "      <th>102</th>\n",
       "      <td>52</td>\n",
       "      <td>평일</td>\n",
       "      <td>4.900438</td>\n",
       "      <td>4.463750</td>\n",
       "      <td>4.152583</td>\n",
       "      <td>2.920915</td>\n",
       "    </tr>\n",
       "  </tbody>\n",
       "</table>\n",
       "<p>103 rows × 6 columns</p>\n",
       "</div>"
      ],
      "text/plain": [
       "      주 주말평일  mean_광진구  mean_동대문구  mean_성동구  mean_중랑구\n",
       "0     1   주말  2.432750   2.225679  1.976779  1.410886\n",
       "1     1   평일  3.714828   3.202316  3.325890  2.014631\n",
       "2     2   주말  3.016759   2.681149  2.452978  1.787604\n",
       "3     2   평일  2.986793   2.653412  2.796078  1.705686\n",
       "4     3   주말  4.030491   3.328855  3.551316  2.306945\n",
       "..   ..  ...       ...        ...       ...       ...\n",
       "98   50   주말  3.751938   3.409825  3.048461  2.390124\n",
       "99   50   평일  6.311391   5.748811  5.326332  3.609257\n",
       "100  51   주말  3.365464   3.060858  2.549571  2.152327\n",
       "101  51   평일  5.863088   5.408870  5.243595  3.459529\n",
       "102  52   평일  4.900438   4.463750  4.152583  2.920915\n",
       "\n",
       "[103 rows x 6 columns]"
      ]
     },
     "execution_count": 125,
     "metadata": {},
     "output_type": "execute_result"
    }
   ],
   "source": [
    "result_temp"
   ]
  },
  {
   "cell_type": "code",
   "execution_count": 132,
   "metadata": {},
   "outputs": [],
   "source": [
    "main=target.merge(result_temp,on=['주','주말평일']).iloc[:,-4:]"
   ]
  },
  {
   "cell_type": "code",
   "execution_count": 135,
   "metadata": {},
   "outputs": [],
   "source": [
    "import numpy as np\n",
    "def smooth(y, box_pts):\n",
    "    box = np.ones(box_pts)/box_pts\n",
    "    y_smooth = np.convolve(y, box, mode='same')\n",
    "    return y_smooth"
   ]
  },
  {
   "cell_type": "code",
   "execution_count": 136,
   "metadata": {},
   "outputs": [],
   "source": [
    "for col in main.columns:\n",
    "    main[col] = smooth(main[col],10)"
   ]
  },
  {
   "cell_type": "code",
   "execution_count": 156,
   "metadata": {},
   "outputs": [],
   "source": [
    "sample_submission.iloc[:,1:] = (main.values*1.3)"
   ]
  },
  {
   "cell_type": "code",
   "execution_count": 157,
   "metadata": {},
   "outputs": [],
   "source": [
    "sample_submission.to_csv('main.csv',index=False)"
   ]
  },
  {
   "cell_type": "code",
   "execution_count": 152,
   "metadata": {},
   "outputs": [
    {
     "data": {
      "text/plain": [
       "<AxesSubplot: >"
      ]
     },
     "execution_count": 152,
     "metadata": {},
     "output_type": "execute_result"
    },
    {
     "data": {
      "image/png": "[encoded data removed]",
      "text/plain": [
       "<Figure size 640x480 with 1 Axes>"
      ]
     },
     "metadata": {},
     "output_type": "display_data"
    }
   ],
   "source": [
    "(main.iloc[:,0]*1.3).plot()\n",
    "df_2021_raw.iloc[:,0].reset_index(drop=True).plot()"
   ]
  },
  {
   "cell_type": "code",
   "execution_count": 155,
   "metadata": {},
   "outputs": [
    {
     "data": {
      "text/plain": [
       "<AxesSubplot: >"
      ]
     },
     "execution_count": 155,
     "metadata": {},
     "output_type": "execute_result"
    },
    {
     "data": {
      "image/png": "[encoded data removed]",
      "text/plain": [
       "<Figure size 640x480 with 1 Axes>"
      ]
     },
     "metadata": {},
     "output_type": "display_data"
    }
   ],
   "source": [
    "(main.iloc[:,3]*1.3).plot()\n",
    "df_2021_raw.iloc[:,3].reset_index(drop=True).plot()"
   ]
  },
  {
   "cell_type": "code",
   "execution_count": null,
   "metadata": {},
   "outputs": [],
   "source": []
  }
 ],
 "metadata": {
  "kernelspec": {
   "display_name": "Python 3.10.6 ('crawling')",
   "language": "python",
   "name": "python3"
  },
  "language_info": {
   "codemirror_mode": {
    "name": "ipython",
    "version": 3
   },
   "file_extension": ".py",
   "mimetype": "text/x-python",
   "name": "python",
   "nbconvert_exporter": "python",
   "pygments_lexer": "ipython3",
   "version": "3.10.6"
  },
  "orig_nbformat": 4,
  "vscode": {
   "interpreter": {
    "hash": "10621530bc52bc3dcaea48e2b7ef028942e35d2e6e9c9234a88fefd069caf90f"
   }
  }
 },
 "nbformat": 4,
 "nbformat_minor": 2
}
