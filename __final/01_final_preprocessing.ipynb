{
 "cells": [
  {
   "cell_type": "code",
   "execution_count": 66,
   "metadata": {},
   "outputs": [],
   "source": [
    "# imports\n",
    "import numpy as np\n",
    "import pandas as pd\n",
    "import matplotlib.pyplot as plt \n",
    "plt.rc('font',family='AppleGothic')\n",
    "plt.rcParams['axes.unicode_minus'] = False\n",
    "import warnings\n",
    "warnings.filterwarnings(action='ignore')\n",
    "\n",
    "df_raw=pd.read_csv('../data/raw_data/train.csv')\n",
    "df=df_raw.copy()\n",
    "\n",
    "sample_submission_raw=pd.read_csv('../data/raw_data/sample_submission.csv')\n",
    "sample_submission=sample_submission_raw.copy()"
   ]
  },
  {
   "cell_type": "code",
   "execution_count": 67,
   "metadata": {},
   "outputs": [],
   "source": [
    "df['일시']=pd.to_datetime(df['일시'],format=\"%Y%m%d\")\n",
    "df.set_index('일시',inplace=True)\n",
    "\n",
    "df['일'] = df.index.day\n",
    "df['월'] = df.index.month\n",
    "df['년'] = df.index.year\n",
    "df['요일']=df.index.day_of_week\n",
    "df['주']=df.index.week\n",
    "\n",
    "df['주말평일'] = df['요일'].apply(lambda x: '평일' if x < 5 else '주말')\n",
    "\n",
    "# --\n",
    "\n",
    "sample_submission['일시']=pd.to_datetime(sample_submission['일시'],format=\"%Y%m%d\")\n",
    "sample_submission.set_index('일시',inplace=True)\n",
    "\n",
    "sample_submission['일'] = sample_submission.index.day\n",
    "sample_submission['월'] = sample_submission.index.month\n",
    "sample_submission['년'] = sample_submission.index.year\n",
    "sample_submission['요일']=sample_submission.index.day_of_week\n",
    "sample_submission['주']=sample_submission.index.week\n",
    "\n",
    "sample_submission['주말평일'] = sample_submission['요일'].apply(lambda x: '평일' if x < 5 else '주말')\n",
    "\n",
    "sample_submission['주']=sample_submission['주'].apply(lambda x: 1 if x==52 else x)"
   ]
  },
  {
   "cell_type": "code",
   "execution_count": 68,
   "metadata": {},
   "outputs": [],
   "source": [
    "from pytimekr import pytimekr\n",
    "def get_holiday(_year):\n",
    "    holidays=[]\n",
    "    for holiday in pytimekr.holidays(year=_year):\n",
    "        if pytimekr.red_days(holiday) != None:\n",
    "            ans = [i.strftime(\"%Y-%m-%d\") for i in pytimekr.red_days(holiday)]\n",
    "            holidays.extend(ans)\n",
    "        else:\n",
    "            ans=holiday.strftime(\"%Y-%m-%d\")\n",
    "            holidays.append(ans)\n",
    "    return list(set(holidays))"
   ]
  },
  {
   "cell_type": "code",
   "execution_count": 69,
   "metadata": {},
   "outputs": [],
   "source": [
    "df.loc[get_holiday(2018),'주말평일'] = '주말'\n",
    "df.loc[get_holiday(2019),'주말평일'] = '주말'\n",
    "df.loc[get_holiday(2020),'주말평일'] = '주말'\n",
    "df.loc[get_holiday(2021),'주말평일'] = '주말'\n",
    "sample_submission.loc[sorted(get_holiday(2022))[:-1],'주말평일'] ='주말'"
   ]
  },
  {
   "cell_type": "code",
   "execution_count": 74,
   "metadata": {},
   "outputs": [],
   "source": [
    "df.to_csv('pps_data.csv')\n",
    "sample_submission.to_csv('pps_target.csv')\n",
    "sample_submission_raw.to_csv('sample_submission_raw.csv')"
   ]
  },
  {
   "cell_type": "code",
   "execution_count": 73,
   "metadata": {},
   "outputs": [
    {
     "data": {
      "text/html": [
       "<div>\n",
       "<style scoped>\n",
       "    .dataframe tbody tr th:only-of-type {\n",
       "        vertical-align: middle;\n",
       "    }\n",
       "\n",
       "    .dataframe tbody tr th {\n",
       "        vertical-align: top;\n",
       "    }\n",
       "\n",
       "    .dataframe thead th {\n",
       "        text-align: right;\n",
       "    }\n",
       "</style>\n",
       "<table border=\"1\" class=\"dataframe\">\n",
       "  <thead>\n",
       "    <tr style=\"text-align: right;\">\n",
       "      <th></th>\n",
       "      <th>일시</th>\n",
       "      <th>광진구</th>\n",
       "      <th>동대문구</th>\n",
       "      <th>성동구</th>\n",
       "      <th>중랑구</th>\n",
       "    </tr>\n",
       "  </thead>\n",
       "  <tbody>\n",
       "    <tr>\n",
       "      <th>0</th>\n",
       "      <td>20220101</td>\n",
       "      <td>0</td>\n",
       "      <td>0</td>\n",
       "      <td>0</td>\n",
       "      <td>0</td>\n",
       "    </tr>\n",
       "    <tr>\n",
       "      <th>1</th>\n",
       "      <td>20220102</td>\n",
       "      <td>0</td>\n",
       "      <td>0</td>\n",
       "      <td>0</td>\n",
       "      <td>0</td>\n",
       "    </tr>\n",
       "    <tr>\n",
       "      <th>2</th>\n",
       "      <td>20220103</td>\n",
       "      <td>0</td>\n",
       "      <td>0</td>\n",
       "      <td>0</td>\n",
       "      <td>0</td>\n",
       "    </tr>\n",
       "    <tr>\n",
       "      <th>3</th>\n",
       "      <td>20220104</td>\n",
       "      <td>0</td>\n",
       "      <td>0</td>\n",
       "      <td>0</td>\n",
       "      <td>0</td>\n",
       "    </tr>\n",
       "    <tr>\n",
       "      <th>4</th>\n",
       "      <td>20220105</td>\n",
       "      <td>0</td>\n",
       "      <td>0</td>\n",
       "      <td>0</td>\n",
       "      <td>0</td>\n",
       "    </tr>\n",
       "    <tr>\n",
       "      <th>...</th>\n",
       "      <td>...</td>\n",
       "      <td>...</td>\n",
       "      <td>...</td>\n",
       "      <td>...</td>\n",
       "      <td>...</td>\n",
       "    </tr>\n",
       "    <tr>\n",
       "      <th>329</th>\n",
       "      <td>20221126</td>\n",
       "      <td>0</td>\n",
       "      <td>0</td>\n",
       "      <td>0</td>\n",
       "      <td>0</td>\n",
       "    </tr>\n",
       "    <tr>\n",
       "      <th>330</th>\n",
       "      <td>20221127</td>\n",
       "      <td>0</td>\n",
       "      <td>0</td>\n",
       "      <td>0</td>\n",
       "      <td>0</td>\n",
       "    </tr>\n",
       "    <tr>\n",
       "      <th>331</th>\n",
       "      <td>20221128</td>\n",
       "      <td>0</td>\n",
       "      <td>0</td>\n",
       "      <td>0</td>\n",
       "      <td>0</td>\n",
       "    </tr>\n",
       "    <tr>\n",
       "      <th>332</th>\n",
       "      <td>20221129</td>\n",
       "      <td>0</td>\n",
       "      <td>0</td>\n",
       "      <td>0</td>\n",
       "      <td>0</td>\n",
       "    </tr>\n",
       "    <tr>\n",
       "      <th>333</th>\n",
       "      <td>20221130</td>\n",
       "      <td>0</td>\n",
       "      <td>0</td>\n",
       "      <td>0</td>\n",
       "      <td>0</td>\n",
       "    </tr>\n",
       "  </tbody>\n",
       "</table>\n",
       "<p>334 rows × 5 columns</p>\n",
       "</div>"
      ],
      "text/plain": [
       "           일시  광진구  동대문구  성동구  중랑구\n",
       "0    20220101    0     0    0    0\n",
       "1    20220102    0     0    0    0\n",
       "2    20220103    0     0    0    0\n",
       "3    20220104    0     0    0    0\n",
       "4    20220105    0     0    0    0\n",
       "..        ...  ...   ...  ...  ...\n",
       "329  20221126    0     0    0    0\n",
       "330  20221127    0     0    0    0\n",
       "331  20221128    0     0    0    0\n",
       "332  20221129    0     0    0    0\n",
       "333  20221130    0     0    0    0\n",
       "\n",
       "[334 rows x 5 columns]"
      ]
     },
     "execution_count": 73,
     "metadata": {},
     "output_type": "execute_result"
    }
   ],
   "source": [
    "sample_submission_raw"
   ]
  },
  {
   "cell_type": "code",
   "execution_count": 70,
   "metadata": {},
   "outputs": [],
   "source": [
    "weekly_mean=df.groupby(['주','주말평일'])[df.columns[:4]].mean()\n",
    "weekly_mean=weekly_mean.reset_index()"
   ]
  },
  {
   "cell_type": "code",
   "execution_count": 6,
   "metadata": {},
   "outputs": [],
   "source": [
    "temp=pd.merge(sample_submission,weekly_mean,on=['주말평일','주'])\n",
    "\n",
    "temp['date'] = temp['년'].apply(lambda x : str(x)) + temp['월'].apply(lambda x : '_'+str(x).zfill(2)) + temp['일'].apply(lambda x : '_'+str(x).zfill(2))\n",
    "temp.index=pd.to_datetime(temp['date'],format='%Y_%m_%d')\n",
    "temp.sort_index(inplace=True)\n",
    "\n",
    "weekly_mean_ans=temp.copy()"
   ]
  },
  {
   "cell_type": "code",
   "execution_count": 7,
   "metadata": {},
   "outputs": [],
   "source": [
    "def smooth(y, box_pts):\n",
    "    box = np.ones(box_pts)/box_pts\n",
    "    y_smooth = np.convolve(y, box, mode='same')\n",
    "    return y_smooth"
   ]
  },
  {
   "cell_type": "code",
   "execution_count": 8,
   "metadata": {},
   "outputs": [],
   "source": [
    "my=weekly_mean_ans.iloc[:,10:-1]"
   ]
  },
  {
   "cell_type": "code",
   "execution_count": 9,
   "metadata": {},
   "outputs": [],
   "source": [
    "for col in my.columns:\n",
    "    my[col][10:] = smooth(my[col],10)[10:]"
   ]
  },
  {
   "cell_type": "code",
   "execution_count": 49,
   "metadata": {},
   "outputs": [],
   "source": [
    "df_2018_raw = df[df.index.year == 2018]\n",
    "df_2019_raw = df[df.index.year == 2019]\n",
    "df_2020_raw = df[df.index.year == 2020]\n",
    "df_2021_raw = df[df.index.year == 2021]"
   ]
  },
  {
   "cell_type": "code",
   "execution_count": 50,
   "metadata": {},
   "outputs": [],
   "source": [
    "df_2018_raw =df_2018_raw.groupby(['주','주말평일'])[df_2018_raw.columns[:4]].mean()\n",
    "df_2019_raw =df_2019_raw.groupby(['주','주말평일'])[df_2019_raw.columns[:4]].mean()\n",
    "df_2020_raw =df_2020_raw.groupby(['주','주말평일'])[df_2020_raw.columns[:4]].mean()\n",
    "df_2021_raw =df_2021_raw.groupby(['주','주말평일'])[df_2021_raw.columns[:4]].mean()"
   ]
  },
  {
   "cell_type": "code",
   "execution_count": 51,
   "metadata": {},
   "outputs": [],
   "source": [
    "df_2018_raw.columns = [str(i)+'2018' for i in df_2018_raw.columns]\n",
    "df_2019_raw.columns = [str(i)+'2019' for i in df_2019_raw.columns]\n",
    "df_2020_raw.columns = [str(i)+'2020' for i in df_2020_raw.columns]\n",
    "df_2021_raw.columns = [str(i)+'2021' for i in df_2021_raw.columns]"
   ]
  },
  {
   "cell_type": "code",
   "execution_count": 52,
   "metadata": {},
   "outputs": [],
   "source": [
    "from sklearn.preprocessing import MinMaxScaler\n",
    "mms_2018 = MinMaxScaler()\n",
    "mms_2019 = MinMaxScaler()\n",
    "mms_2020 = MinMaxScaler()\n",
    "mms_2021 = MinMaxScaler()\n",
    "\n",
    "\n",
    "df_2018_raw.iloc[:,:] = mms_2018.fit_transform(df_2018_raw.iloc[:,:])\n",
    "df_2019_raw.iloc[:,:] = mms_2019.fit_transform(df_2019_raw.iloc[:,:])\n",
    "df_2020_raw.iloc[:,:] = mms_2020.fit_transform(df_2020_raw.iloc[:,:])\n",
    "df_2021_raw.iloc[:,:] = mms_2021.fit_transform(df_2021_raw.iloc[:,:])"
   ]
  },
  {
   "cell_type": "code",
   "execution_count": 53,
   "metadata": {},
   "outputs": [],
   "source": [
    "temp_1=pd.merge(df_2018_raw.reset_index(),df_2019_raw.reset_index(),on=['주','주말평일'])\n",
    "temp_2=pd.merge(df_2020_raw.reset_index(),df_2021_raw.reset_index(),on=['주','주말평일'])"
   ]
  },
  {
   "cell_type": "code",
   "execution_count": 54,
   "metadata": {},
   "outputs": [],
   "source": [
    "diff_df=pd.merge(temp_1,temp_2,on=['주','주말평일'])"
   ]
  },
  {
   "cell_type": "code",
   "execution_count": 61,
   "metadata": {},
   "outputs": [],
   "source": [
    "df_diff_광진구=diff_df.loc[:,[i for i in diff_df.columns if i.startswith('광진구')] + ['주','주말평일']]\n",
    "df_diff_동대문구=diff_df.loc[:,[i for i in diff_df.columns if i.startswith('동대문구')] + ['주','주말평일']]\n",
    "df_diff_성동구=diff_df.loc[:,[i for i in diff_df.columns if i.startswith('성동구')] + ['주','주말평일']]\n",
    "df_diff_중랑구=diff_df.loc[:,[i for i in diff_df.columns if i.startswith('중랑구')] + ['주','주말평일']]"
   ]
  },
  {
   "cell_type": "code",
   "execution_count": 62,
   "metadata": {},
   "outputs": [],
   "source": [
    "df_diff_광진구['diff_mean_광진구']=df_diff_광진구.iloc[:,:4].diff(axis=1).fillna(0).mean(axis=1)\n",
    "df_diff_동대문구['diff_mean_동대문구']=df_diff_동대문구.iloc[:,:4].diff(axis=1).fillna(0).mean(axis=1)\n",
    "df_diff_성동구['diff_mean_성동구']=df_diff_성동구.iloc[:,:4].diff(axis=1).fillna(0).mean(axis=1)\n",
    "df_diff_중랑구['diff_mean_중랑구']=df_diff_중랑구.iloc[:,:4].diff(axis=1).fillna(0).mean(axis=1)"
   ]
  },
  {
   "cell_type": "code",
   "execution_count": 58,
   "metadata": {},
   "outputs": [],
   "source": [
    "my_diff=weekly_mean_ans.iloc[:,8:-1]"
   ]
  },
  {
   "cell_type": "code",
   "execution_count": 59,
   "metadata": {},
   "outputs": [
    {
     "data": {
      "text/html": [
       "<div>\n",
       "<style scoped>\n",
       "    .dataframe tbody tr th:only-of-type {\n",
       "        vertical-align: middle;\n",
       "    }\n",
       "\n",
       "    .dataframe tbody tr th {\n",
       "        vertical-align: top;\n",
       "    }\n",
       "\n",
       "    .dataframe thead th {\n",
       "        text-align: right;\n",
       "    }\n",
       "</style>\n",
       "<table border=\"1\" class=\"dataframe\">\n",
       "  <thead>\n",
       "    <tr style=\"text-align: right;\">\n",
       "      <th></th>\n",
       "      <th>주</th>\n",
       "      <th>주말평일</th>\n",
       "      <th>광진구_y</th>\n",
       "      <th>동대문구_y</th>\n",
       "      <th>성동구_y</th>\n",
       "      <th>중랑구_y</th>\n",
       "    </tr>\n",
       "    <tr>\n",
       "      <th>date</th>\n",
       "      <th></th>\n",
       "      <th></th>\n",
       "      <th></th>\n",
       "      <th></th>\n",
       "      <th></th>\n",
       "      <th></th>\n",
       "    </tr>\n",
       "  </thead>\n",
       "  <tbody>\n",
       "    <tr>\n",
       "      <th>2022-01-01</th>\n",
       "      <td>1</td>\n",
       "      <td>주말</td>\n",
       "      <td>1.446364</td>\n",
       "      <td>0.970182</td>\n",
       "      <td>1.088364</td>\n",
       "      <td>0.676364</td>\n",
       "    </tr>\n",
       "    <tr>\n",
       "      <th>2022-01-02</th>\n",
       "      <td>1</td>\n",
       "      <td>주말</td>\n",
       "      <td>1.446364</td>\n",
       "      <td>0.970182</td>\n",
       "      <td>1.088364</td>\n",
       "      <td>0.676364</td>\n",
       "    </tr>\n",
       "    <tr>\n",
       "      <th>2022-01-03</th>\n",
       "      <td>1</td>\n",
       "      <td>평일</td>\n",
       "      <td>1.870000</td>\n",
       "      <td>1.318000</td>\n",
       "      <td>1.704118</td>\n",
       "      <td>0.848941</td>\n",
       "    </tr>\n",
       "    <tr>\n",
       "      <th>2022-01-04</th>\n",
       "      <td>1</td>\n",
       "      <td>평일</td>\n",
       "      <td>1.870000</td>\n",
       "      <td>1.318000</td>\n",
       "      <td>1.704118</td>\n",
       "      <td>0.848941</td>\n",
       "    </tr>\n",
       "    <tr>\n",
       "      <th>2022-01-05</th>\n",
       "      <td>1</td>\n",
       "      <td>평일</td>\n",
       "      <td>1.870000</td>\n",
       "      <td>1.318000</td>\n",
       "      <td>1.704118</td>\n",
       "      <td>0.848941</td>\n",
       "    </tr>\n",
       "    <tr>\n",
       "      <th>...</th>\n",
       "      <td>...</td>\n",
       "      <td>...</td>\n",
       "      <td>...</td>\n",
       "      <td>...</td>\n",
       "      <td>...</td>\n",
       "      <td>...</td>\n",
       "    </tr>\n",
       "    <tr>\n",
       "      <th>2022-11-26</th>\n",
       "      <td>47</td>\n",
       "      <td>주말</td>\n",
       "      <td>4.552000</td>\n",
       "      <td>3.189000</td>\n",
       "      <td>3.430500</td>\n",
       "      <td>2.415250</td>\n",
       "    </tr>\n",
       "    <tr>\n",
       "      <th>2022-11-27</th>\n",
       "      <td>47</td>\n",
       "      <td>주말</td>\n",
       "      <td>4.552000</td>\n",
       "      <td>3.189000</td>\n",
       "      <td>3.430500</td>\n",
       "      <td>2.415250</td>\n",
       "    </tr>\n",
       "    <tr>\n",
       "      <th>2022-11-28</th>\n",
       "      <td>48</td>\n",
       "      <td>평일</td>\n",
       "      <td>5.241100</td>\n",
       "      <td>3.899100</td>\n",
       "      <td>4.223800</td>\n",
       "      <td>2.664300</td>\n",
       "    </tr>\n",
       "    <tr>\n",
       "      <th>2022-11-29</th>\n",
       "      <td>48</td>\n",
       "      <td>평일</td>\n",
       "      <td>5.241100</td>\n",
       "      <td>3.899100</td>\n",
       "      <td>4.223800</td>\n",
       "      <td>2.664300</td>\n",
       "    </tr>\n",
       "    <tr>\n",
       "      <th>2022-11-30</th>\n",
       "      <td>48</td>\n",
       "      <td>평일</td>\n",
       "      <td>5.241100</td>\n",
       "      <td>3.899100</td>\n",
       "      <td>4.223800</td>\n",
       "      <td>2.664300</td>\n",
       "    </tr>\n",
       "  </tbody>\n",
       "</table>\n",
       "<p>334 rows × 6 columns</p>\n",
       "</div>"
      ],
      "text/plain": [
       "             주 주말평일     광진구_y    동대문구_y     성동구_y     중랑구_y\n",
       "date                                                       \n",
       "2022-01-01   1   주말  1.446364  0.970182  1.088364  0.676364\n",
       "2022-01-02   1   주말  1.446364  0.970182  1.088364  0.676364\n",
       "2022-01-03   1   평일  1.870000  1.318000  1.704118  0.848941\n",
       "2022-01-04   1   평일  1.870000  1.318000  1.704118  0.848941\n",
       "2022-01-05   1   평일  1.870000  1.318000  1.704118  0.848941\n",
       "...         ..  ...       ...       ...       ...       ...\n",
       "2022-11-26  47   주말  4.552000  3.189000  3.430500  2.415250\n",
       "2022-11-27  47   주말  4.552000  3.189000  3.430500  2.415250\n",
       "2022-11-28  48   평일  5.241100  3.899100  4.223800  2.664300\n",
       "2022-11-29  48   평일  5.241100  3.899100  4.223800  2.664300\n",
       "2022-11-30  48   평일  5.241100  3.899100  4.223800  2.664300\n",
       "\n",
       "[334 rows x 6 columns]"
      ]
     },
     "execution_count": 59,
     "metadata": {},
     "output_type": "execute_result"
    }
   ],
   "source": [
    "my_diff"
   ]
  },
  {
   "cell_type": "code",
   "execution_count": 48,
   "metadata": {},
   "outputs": [
    {
     "data": {
      "text/plain": [
       "<AxesSubplot: xlabel='date'>"
      ]
     },
     "execution_count": 48,
     "metadata": {},
     "output_type": "execute_result"
    },
    {
     "data": {
      "image/png": "[encoded data removed]",
      "text/plain": [
       "<Figure size 640x480 with 1 Axes>"
      ]
     },
     "metadata": {},
     "output_type": "display_data"
    }
   ],
   "source": [
    "my_diff.iloc[:,2:].plot()"
   ]
  },
  {
   "cell_type": "code",
   "execution_count": 21,
   "metadata": {},
   "outputs": [],
   "source": [
    "df_diff_광진구['ratio_1'] = df_diff_광진구.iloc[:,1]/df_diff_광진구.iloc[:,0]\n",
    "df_diff_광진구['ratio_2'] = df_diff_광진구.iloc[:,2]/df_diff_광진구.iloc[:,1]\n",
    "df_diff_광진구['ratio_3'] = df_diff_광진구.iloc[:,3]/df_diff_광진구.iloc[:,2]\n",
    "df_diff_광진구['ratio_mean_광진']=df_diff_광진구.iloc[:,-3:].mean(axis=1)\n",
    "###\n",
    "df_diff_동대문구['ratio_1'] = df_diff_동대문구.iloc[:,1]/df_diff_동대문구.iloc[:,0]\n",
    "df_diff_동대문구['ratio_2'] = df_diff_동대문구.iloc[:,2]/df_diff_동대문구.iloc[:,1]\n",
    "df_diff_동대문구['ratio_3'] = df_diff_동대문구.iloc[:,3]/df_diff_동대문구.iloc[:,2]\n",
    "df_diff_동대문구['ratio_mean_동대문']=df_diff_동대문구.iloc[:,-3:].mean(axis=1)\n",
    "###\n",
    "df_diff_성동구['ratio_1'] = df_diff_성동구.iloc[:,1]/df_diff_성동구.iloc[:,0]\n",
    "df_diff_성동구['ratio_2'] = df_diff_성동구.iloc[:,2]/df_diff_성동구.iloc[:,1]\n",
    "df_diff_성동구['ratio_3'] = df_diff_성동구.iloc[:,3]/df_diff_성동구.iloc[:,2]\n",
    "df_diff_성동구['ratio_mean_성동']=df_diff_성동구.iloc[:,-3:].mean(axis=1)\n",
    "###\n",
    "df_diff_중랑구['ratio_1'] = df_diff_중랑구.iloc[:,1]/df_diff_중랑구.iloc[:,0]\n",
    "df_diff_중랑구['ratio_2'] = df_diff_중랑구.iloc[:,2]/df_diff_중랑구.iloc[:,1]\n",
    "df_diff_중랑구['ratio_3'] = df_diff_중랑구.iloc[:,3]/df_diff_중랑구.iloc[:,2]\n",
    "df_diff_중랑구['ratio_mean_중랑']=df_diff_중랑구.iloc[:,-3:].mean(axis=1)"
   ]
  },
  {
   "cell_type": "code",
   "execution_count": 23,
   "metadata": {},
   "outputs": [],
   "source": [
    "my['week']=my.index.week\n",
    "my['weekday']=my.index.weekday\n",
    "my['week']=my['week'].apply(lambda x: x if x!=52 else 1)"
   ]
  },
  {
   "cell_type": "code",
   "execution_count": 24,
   "metadata": {},
   "outputs": [],
   "source": [
    "my['day_type']=my['weekday'].apply(lambda x : '평일' if x<5 else '주말' )"
   ]
  },
  {
   "cell_type": "code",
   "execution_count": 25,
   "metadata": {},
   "outputs": [],
   "source": [
    "temp_1=my.merge(df_diff_광진구,left_on=['week','day_type'],right_on=['주','주말평일'])\n",
    "temp_1['광진구_multiplied']=temp_1.iloc[:,0] * temp_1.iloc[:,-1]"
   ]
  },
  {
   "cell_type": "code",
   "execution_count": 26,
   "metadata": {},
   "outputs": [],
   "source": [
    "temp_2=my.merge(df_diff_동대문구,left_on=['week','day_type'],right_on=['주','주말평일'])\n",
    "temp_2['동대문구_multiplied']=temp_2.iloc[:,0] * temp_2.iloc[:,-1]"
   ]
  },
  {
   "cell_type": "code",
   "execution_count": 27,
   "metadata": {},
   "outputs": [],
   "source": [
    "temp_3=my.merge(df_diff_성동구,left_on=['week','day_type'],right_on=['주','주말평일'])\n",
    "temp_3['성동구_multiplied']=temp_3.iloc[:,0] * temp_3.iloc[:,-1]"
   ]
  },
  {
   "cell_type": "code",
   "execution_count": 28,
   "metadata": {},
   "outputs": [],
   "source": [
    "temp_4=my.merge(df_diff_중랑구,left_on=['week','day_type'],right_on=['주','주말평일'])\n",
    "temp_4['중랑구_multiplied']=temp_4.iloc[:,0] * temp_4.iloc[:,-1]"
   ]
  },
  {
   "cell_type": "code",
   "execution_count": 29,
   "metadata": {},
   "outputs": [],
   "source": [
    "my_df=pd.concat([temp_1['광진구_multiplied'],temp_2['동대문구_multiplied'],temp_3['성동구_multiplied'],temp_4['중랑구_multiplied']],axis=1)"
   ]
  },
  {
   "cell_type": "code",
   "execution_count": 43,
   "metadata": {},
   "outputs": [],
   "source": [
    "for col in my_df.columns:\n",
    "    my_df[col] = smooth(my_df[col],7)"
   ]
  },
  {
   "cell_type": "code",
   "execution_count": null,
   "metadata": {},
   "outputs": [],
   "source": []
  }
 ],
 "metadata": {
  "kernelspec": {
   "display_name": "Python 3.10.6 ('crawling')",
   "language": "python",
   "name": "python3"
  },
  "language_info": {
   "codemirror_mode": {
    "name": "ipython",
    "version": 3
   },
   "file_extension": ".py",
   "mimetype": "text/x-python",
   "name": "python",
   "nbconvert_exporter": "python",
   "pygments_lexer": "ipython3",
   "version": "3.10.6"
  },
  "orig_nbformat": 4,
  "vscode": {
   "interpreter": {
    "hash": "10621530bc52bc3dcaea48e2b7ef028942e35d2e6e9c9234a88fefd069caf90f"
   }
  }
 },
 "nbformat": 4,
 "nbformat_minor": 2
}
