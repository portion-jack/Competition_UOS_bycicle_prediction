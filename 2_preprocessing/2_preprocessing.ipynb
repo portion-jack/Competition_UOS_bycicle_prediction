{
 "cells": [
  {
   "cell_type": "code",
   "execution_count": 1,
   "metadata": {},
   "outputs": [],
   "source": [
    "import pandas as pd\n",
    "import matplotlib.pyplot as plt \n",
    "plt.rc('font',family='AppleGothic')\n",
    "import numpy as np\n",
    "import warnings\n",
    "warnings.filterwarnings(action='ignore')\n",
    "\n",
    "train_data=pd.read_csv('../data/pps_v2/train_data_cleaned_25.csv',index_col=0)\n",
    "train_data.drop(train_data[(train_data['월']==2) & (train_data['일']==29)].index,inplace=True)\n",
    "\n",
    "train_data_raw=train_data.copy()\n",
    "\n",
    "sample_submission_raw=pd.read_csv('../data/pps/test_data.csv',index_col=0)\n",
    "sample_submission=sample_submission_raw.copy()\n",
    "\n",
    "train_data.index = pd.to_datetime(train_data.index,format='%Y-%m-%d')\n",
    "sample_submission.index = pd.to_datetime(sample_submission.index,format='%Y-%m-%d')"
   ]
  },
  {
   "cell_type": "code",
   "execution_count": 2,
   "metadata": {},
   "outputs": [],
   "source": [
    "train_data_encoded=pd.concat([train_data.drop(['월','요일'],axis=1),\n",
    "                      pd.get_dummies(train_data['월']),\n",
    "                      pd.get_dummies(train_data['요일'])],axis=1)\n",
    "\n",
    "test_data_encoded=pd.concat([sample_submission.drop(['월','요일'],axis=1),\n",
    "                     pd.get_dummies(sample_submission['월']),\n",
    "                     pd.get_dummies(sample_submission['요일'])],axis=1)"
   ]
  },
  {
   "cell_type": "code",
   "execution_count": 3,
   "metadata": {},
   "outputs": [],
   "source": [
    "from sklearn.preprocessing import LabelEncoder\n",
    "lbe = LabelEncoder()\n",
    "\n",
    "train_data_encoded['주말평일'] = lbe.fit_transform(train_data_encoded['주말평일'])\n",
    "test_data_encoded['주말평일'] = lbe.transform(test_data_encoded['주말평일'])"
   ]
  },
  {
   "cell_type": "code",
   "execution_count": 4,
   "metadata": {},
   "outputs": [],
   "source": [
    "train_data_encoded.to_csv('../data/final_data_v2/train_data_encoded_25.csv')\n",
    "test_data_encoded.to_csv('../data/final_data_v2/test_data_encoded_25.csv')"
   ]
  },
  {
   "cell_type": "code",
   "execution_count": null,
   "metadata": {},
   "outputs": [],
   "source": []
  }
 ],
 "metadata": {
  "kernelspec": {
   "display_name": "Python 3.10.6 ('crawling')",
   "language": "python",
   "name": "python3"
  },
  "language_info": {
   "codemirror_mode": {
    "name": "ipython",
    "version": 3
   },
   "file_extension": ".py",
   "mimetype": "text/x-python",
   "name": "python",
   "nbconvert_exporter": "python",
   "pygments_lexer": "ipython3",
   "version": "3.10.6"
  },
  "orig_nbformat": 4,
  "vscode": {
   "interpreter": {
    "hash": "10621530bc52bc3dcaea48e2b7ef028942e35d2e6e9c9234a88fefd069caf90f"
   }
  }
 },
 "nbformat": 4,
 "nbformat_minor": 2
}
