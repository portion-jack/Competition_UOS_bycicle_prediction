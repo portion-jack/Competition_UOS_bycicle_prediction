{
 "cells": [
  {
   "cell_type": "code",
   "execution_count": 1,
   "metadata": {},
   "outputs": [],
   "source": [
    "import pandas as pd\n",
    "import matplotlib.pyplot as plt \n",
    "plt.rc('font',family='AppleGothic')\n",
    "import numpy as np\n",
    "import warnings\n",
    "warnings.filterwarnings(action='ignore')\n",
    "\n",
    "df_raw=pd.read_csv('../data/pps/train_data.csv',index_col=0)\n",
    "df=df_raw.copy()\n",
    "\n",
    "sample_submission_raw=pd.read_csv('../data/pps/test_data.csv',index_col=0)\n",
    "sample_submission=sample_submission_raw.copy()\n",
    "\n",
    "df.index = pd.to_datetime(df.index,format='%Y-%m-%d')\n",
    "sample_submission.index = pd.to_datetime(sample_submission.index,format='%Y-%m-%d')"
   ]
  },
  {
   "cell_type": "code",
   "execution_count": 2,
   "metadata": {},
   "outputs": [
    {
     "data": {
      "text/plain": [
       "3~5     24.4\n",
       "6~8     38.8\n",
       "9~11    22.0\n",
       "12~2    20.0\n",
       "dtype: float64"
      ]
     },
     "execution_count": 2,
     "metadata": {},
     "output_type": "execute_result"
    }
   ],
   "source": [
    "# seoul 연평균 강수일\n",
    "s=\"\"\"\n",
    "2017,19,41,19,21,\n",
    "2018,31,34,23,11,\n",
    "2019,17,39,23,29,\n",
    "2020,20,46,20,18,\n",
    "2021,35,34,25,21\n",
    "\"\"\"\n",
    "\n",
    "rain = pd.DataFrame(np.array([i.strip() for i in s.split(',')]).reshape(5,5))\n",
    "\n",
    "rain.columns = ['년도','3~5','6~8','9~11','12~2']\n",
    "for col in rain.columns:\n",
    "    rain[col] = pd.to_numeric(rain[col])\n",
    "    \n",
    "rain.iloc[:,1:].mean()"
   ]
  },
  {
   "cell_type": "code",
   "execution_count": 5,
   "metadata": {},
   "outputs": [
    {
     "data": {
      "text/plain": [
       "년도\n",
       "2017    79\n",
       "2018    88\n",
       "2019    79\n",
       "2020    86\n",
       "2021    94\n",
       "dtype: int64"
      ]
     },
     "execution_count": 5,
     "metadata": {},
     "output_type": "execute_result"
    }
   ],
   "source": [
    "rain.set_index('년도').iloc[:,:-1].sum(axis=1)"
   ]
  },
  {
   "cell_type": "code",
   "execution_count": 19,
   "metadata": {},
   "outputs": [],
   "source": [
    "df_2018 = df[df.index.year == 2018]\n",
    "df_2018_raw=df_2018.copy()\n",
    "df_2019 = df[df.index.year == 2019]\n",
    "df_2019_raw=df_2019.copy()\n",
    "df_2020 = df[df.index.year == 2020]\n",
    "df_2020_raw=df_2020.copy()\n",
    "df_2021 = df[df.index.year == 2021]\n",
    "df_2021_raw=df_2021.copy()"
   ]
  },
  {
   "cell_type": "code",
   "execution_count": 22,
   "metadata": {},
   "outputs": [],
   "source": [
    "for months,rain in zip([[3,4,5],[6,7,8],[9,10,11]],[31,34,23]):\n",
    "    temp=df_2018[df_2018['월'].isin(months)]\n",
    "    for location in ['광진구','동대문구','성동구','중랑구']:\n",
    "        temp.loc[temp[temp['월'].isin(months)][location].nsmallest(rain).index,location] = np.NaN\n",
    "        temp[location]=temp[location].interpolate(method='time').fillna(method='bfill').fillna(method='ffill')\n",
    "    df_2018[df_2018['월'].isin(months)] = temp"
   ]
  },
  {
   "cell_type": "code",
   "execution_count": 23,
   "metadata": {},
   "outputs": [],
   "source": [
    "for months,rain in zip([[3,4,5],[6,7,8],[9,10,11]],[17,39,23]):\n",
    "    temp=df_2019[df_2019['월'].isin(months)]\n",
    "    for location in ['광진구','동대문구','성동구','중랑구']:\n",
    "        temp.loc[temp[temp['월'].isin(months)][location].nsmallest(rain).index,location] = np.NaN\n",
    "        temp[location]=temp[location].interpolate(method='time').fillna(method='bfill').fillna(method='ffill')\n",
    "    df_2019[df_2019['월'].isin(months)] = temp"
   ]
  },
  {
   "cell_type": "code",
   "execution_count": 24,
   "metadata": {},
   "outputs": [],
   "source": [
    "for months,rain in zip([[3,4,5],[6,7,8],[9,10,11]],[20,46,20]):\n",
    "    temp=df_2020[df_2020['월'].isin(months)]\n",
    "    for location in ['광진구','동대문구','성동구','중랑구']:\n",
    "        temp.loc[temp[temp['월'].isin(months)][location].nsmallest(rain).index,location] = np.NaN\n",
    "        temp[location]=temp[location].interpolate(method='time').fillna(method='bfill').fillna(method='ffill')\n",
    "    df_2020[df_2020['월'].isin(months)] = temp"
   ]
  },
  {
   "cell_type": "code",
   "execution_count": 25,
   "metadata": {},
   "outputs": [],
   "source": [
    "for months,rain in zip([[3,4,5],[6,7,8],[9,10,11]],[35,34,25]):\n",
    "    temp=df_2021[df_2021['월'].isin(months)]\n",
    "    for location in ['광진구','동대문구','성동구','중랑구']:\n",
    "        temp.loc[temp[temp['월'].isin(months)][location].nsmallest(rain).index,location] = np.NaN\n",
    "        temp[location]=temp[location].interpolate(method='time').fillna(method='bfill').fillna(method='ffill')\n",
    "    df_2021[df_2021['월'].isin(months)] = temp"
   ]
  },
  {
   "cell_type": "code",
   "execution_count": 26,
   "metadata": {},
   "outputs": [],
   "source": [
    "df[df.index.year == 2018] = df_2018\n",
    "df[df.index.year == 2019] = df_2019\n",
    "df[df.index.year == 2020] = df_2020\n",
    "df[df.index.year == 2021] = df_2021"
   ]
  },
  {
   "cell_type": "code",
   "execution_count": 28,
   "metadata": {},
   "outputs": [],
   "source": [
    "df.to_csv('../data/pps/train_data_cleaned.csv')"
   ]
  },
  {
   "cell_type": "code",
   "execution_count": null,
   "metadata": {},
   "outputs": [],
   "source": []
  }
 ],
 "metadata": {
  "kernelspec": {
   "display_name": "Python 3.10.6 ('crawling')",
   "language": "python",
   "name": "python3"
  },
  "language_info": {
   "codemirror_mode": {
    "name": "ipython",
    "version": 3
   },
   "file_extension": ".py",
   "mimetype": "text/x-python",
   "name": "python",
   "nbconvert_exporter": "python",
   "pygments_lexer": "ipython3",
   "version": "3.10.6"
  },
  "orig_nbformat": 4,
  "vscode": {
   "interpreter": {
    "hash": "10621530bc52bc3dcaea48e2b7ef028942e35d2e6e9c9234a88fefd069caf90f"
   }
  }
 },
 "nbformat": 4,
 "nbformat_minor": 2
}
