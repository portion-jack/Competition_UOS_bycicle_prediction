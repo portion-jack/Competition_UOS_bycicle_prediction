{
 "cells": [
  {
   "cell_type": "code",
   "execution_count": null,
   "metadata": {},
   "outputs": [],
   "source": [
    "import pandas as pd\n",
    "import matplotlib.pyplot as plt \n",
    "plt.rc('font',family='AppleGothic')\n",
    "import warnings\n",
    "warnings.filterwarnings(action='ignore')\n",
    "\n",
    "df_raw=pd.read_csv('../data/raw_data/train.csv')\n",
    "df=df_raw.copy()\n",
    "\n",
    "sample_submission_raw=pd.read_csv('../data/raw_data/sample_submission.csv')\n",
    "sample_submission=sample_submission_raw.copy()"
   ]
  },
  {
   "cell_type": "code",
   "execution_count": null,
   "metadata": {},
   "outputs": [],
   "source": [
    "df['일시']=pd.to_datetime(df['일시'],format=\"%Y%m%d\")\n",
    "df.set_index('일시',inplace=True)\n",
    "\n",
    "df['일'] = df.index.day\n",
    "df['월'] = df.index.month\n",
    "df['년'] = df.index.year\n",
    "\n",
    "df['요일']=df.index.day_of_week\n",
    "df['주말평일'] = df['요일'].apply(lambda x: '평일' if x < 5 else '주말')\n",
    "# --\n",
    "\n",
    "sample_submission['일시']=pd.to_datetime(sample_submission['일시'],format=\"%Y%m%d\")\n",
    "sample_submission.set_index('일시',inplace=True)\n",
    "\n",
    "sample_submission['일'] = sample_submission.index.day\n",
    "sample_submission['월'] = sample_submission.index.month\n",
    "sample_submission['년'] = sample_submission.index.year\n",
    "\n",
    "sample_submission['요일']=sample_submission.index.day_of_week\n",
    "sample_submission['주말평일'] = sample_submission['요일'].apply(lambda x: '평일' if x < 5 else '주말')"
   ]
  },
  {
   "cell_type": "code",
   "execution_count": null,
   "metadata": {},
   "outputs": [],
   "source": [
    "from pytimekr import pytimekr\n",
    "def get_holiday(_year):\n",
    "    holidays=[]\n",
    "    for holiday in pytimekr.holidays(year=_year):\n",
    "        if pytimekr.red_days(holiday) != None:\n",
    "            ans = [i.strftime(\"%Y-%m-%d\") for i in pytimekr.red_days(holiday)]\n",
    "            holidays.extend(ans)\n",
    "        else:\n",
    "            ans=holiday.strftime(\"%Y-%m-%d\")\n",
    "            holidays.append(ans)\n",
    "    return list(set(holidays))"
   ]
  },
  {
   "cell_type": "code",
   "execution_count": null,
   "metadata": {},
   "outputs": [],
   "source": [
    "df.loc[get_holiday(2018),'주말평일'] = '주말'\n",
    "df.loc[get_holiday(2019),'주말평일'] = '주말'\n",
    "df.loc[get_holiday(2020),'주말평일'] = '주말'\n",
    "df.loc[get_holiday(2021),'주말평일'] = '주말'\n",
    "sample_submission.loc[sorted(get_holiday(2022))[:-1],'주말평일'] ='주말'"
   ]
  },
  {
   "cell_type": "code",
   "execution_count": null,
   "metadata": {},
   "outputs": [],
   "source": [
    "df.drop(df[df['월']==12].index,inplace=True)"
   ]
  },
  {
   "cell_type": "code",
   "execution_count": null,
   "metadata": {},
   "outputs": [],
   "source": [
    "from sklearn.preprocessing import LabelEncoder,RobustScaler\n",
    "lbe = LabelEncoder()\n",
    "rbs = RobustScaler()\n",
    "df['주말평일'] = lbe.fit_transform(df['주말평일'])\n",
    "sample_submission['주말평일'] = lbe.transform(sample_submission['주말평일'])\n",
    "\n",
    "df_3 = df.copy()\n",
    "sample_submission_3 = sample_submission.copy()\n",
    "\n",
    "df=pd.concat([df.drop(['월','요일'],axis=1),\n",
    "                      pd.get_dummies(df['월']),\n",
    "                      pd.get_dummies(df['요일'])],axis=1)\n",
    "\n",
    "sample_submission=pd.concat([sample_submission.drop(['월','요일'],axis=1),\n",
    "                     pd.get_dummies(sample_submission['월']),\n",
    "                     pd.get_dummies(sample_submission['요일'])],axis=1)"
   ]
  },
  {
   "cell_type": "code",
   "execution_count": null,
   "metadata": {},
   "outputs": [],
   "source": [
    "df_2018_raw = df[df.index.year == 2018]\n",
    "df_2019_raw = df[df.index.year == 2019]\n",
    "df_2020_raw = df[df.index.year == 2020]\n",
    "df_2021_raw = df[df.index.year == 2021]"
   ]
  },
  {
   "cell_type": "code",
   "execution_count": null,
   "metadata": {},
   "outputs": [],
   "source": [
    "# 1 \n",
    "train_data_1 = df.copy()\n",
    "test_data_1 = sample_submission.copy()"
   ]
  },
  {
   "cell_type": "code",
   "execution_count": null,
   "metadata": {},
   "outputs": [],
   "source": [
    "# 2\n",
    "import numpy as np \n",
    "\n",
    "train_data_2 = df.copy()\n",
    "test_data_2 = sample_submission.copy()\n",
    "\n",
    "def smooth(y, box_pts):\n",
    "    box = np.ones(box_pts)/box_pts\n",
    "    y_smooth = np.convolve(y, box, mode='same')\n",
    "    return y_smooth\n",
    "\n",
    "df_2018 = train_data_2[train_data_2.index.year == 2018]\n",
    "df_2019 = train_data_2[train_data_2.index.year == 2019]\n",
    "df_2020 = train_data_2[train_data_2.index.year == 2020]\n",
    "df_2021 = train_data_2[train_data_2.index.year == 2021]\n",
    "\n",
    "for col in df_2018.columns[:4]:\n",
    "    df_2018[col][15:-15] = smooth(df_2018[col],7)[15:-15]\n",
    "for col in df_2019.columns[:4]:\n",
    "    df_2019[col][15:-15] = smooth(df_2019[col],7)[15:-15]\n",
    "for col in df_2020.columns[:4]:\n",
    "    df_2020[col][15:-15] = smooth(df_2020[col],7)[15:-15]\n",
    "for col in df_2021.columns[:4]:\n",
    "    df_2021[col][15:-15] = smooth(df_2021[col],7)[15:-15]\n",
    "\n",
    "train_data_2=pd.concat([df_2018,df_2019,df_2020,df_2021])"
   ]
  },
  {
   "cell_type": "code",
   "execution_count": null,
   "metadata": {},
   "outputs": [],
   "source": [
    "from sklearn.preprocessing import MinMaxScaler\n",
    "mms = MinMaxScaler()\n",
    "\n",
    "train_data_2_mms =mms.fit_transform(train_data_2.iloc[:,4:])\n",
    "test_data_2_mms = mms.transform(test_data_2.iloc[:,4:])\n",
    "train_target2 = train_data_2.iloc[:,:4]"
   ]
  },
  {
   "cell_type": "code",
   "execution_count": null,
   "metadata": {},
   "outputs": [],
   "source": [
    "from sklearn.ensemble import RandomForestRegressor, GradientBoostingRegressor, AdaBoostRegressor, BaggingRegressor\n",
    "from sklearn.kernel_ridge import KernelRidge\n",
    "from sklearn.linear_model import Ridge, RidgeCV\n",
    "from sklearn.linear_model import ElasticNet, ElasticNetCV\n",
    "from sklearn.svm import SVR\n",
    "from sklearn.ensemble import VotingRegressor\n",
    "# import lightgbm as lgb\n",
    "# from lightgbm import LGBMRegressor\n",
    "from xgboost import XGBRegressor"
   ]
  },
  {
   "cell_type": "code",
   "execution_count": null,
   "metadata": {},
   "outputs": [],
   "source": [
    "kernel_ridge=KernelRidge(alpha=0.6, kernel='polynomial', degree=2, coef0=2.5)\n",
    "# gradient_boosting=GradientBoostingRegressor()\n",
    "\n",
    "gradient_boosting = GradientBoostingRegressor(n_estimators=3000, learning_rate=0.05,\n",
    "                                   max_depth=4, max_features='sqrt',\n",
    "                                   min_samples_leaf=15, min_samples_split=10, \n",
    "                                   loss='huber', random_state =5)\n",
    "\n",
    "model_xgb = XGBRegressor(colsample_bytree=0.4603, gamma=0.0468, \n",
    "                             learning_rate=0.05, max_depth=3, \n",
    "                             min_child_weight=1.7817, n_estimators=2200,\n",
    "                             reg_alpha=0.4640, reg_lambda=0.8571,\n",
    "                             subsample=0.5213,\n",
    "                             random_state =7, nthread = -1)\n",
    "\n",
    "# model_lgb = LGBMRegressor(objective='regression',num_leaves=5,\n",
    "#                               learning_rate=0.05, n_estimators=2200,\n",
    "#                               max_bin = 55, bagging_fraction = 0.8,\n",
    "#                               bagging_freq = 5, feature_fraction = 0.2319,\n",
    "#                               feature_fraction_seed=9, bagging_seed=9,\n",
    "#                               min_data_in_leaf =6, min_sum_hessian_in_leaf = 11)\n",
    "\n",
    "\n",
    "vot_model3 = VotingRegressor(\n",
    "    [('m1',kernel_ridge),\n",
    "     ('m2',model_xgb),\n",
    "    #  ('m3',model_lgb),\n",
    "     ('m4',gradient_boosting)]    \n",
    ")"
   ]
  },
  {
   "cell_type": "code",
   "execution_count": null,
   "metadata": {},
   "outputs": [],
   "source": [
    "import numpy as np\n",
    "from sklearn.model_selection import cross_val_score, KFold\n",
    "kfold = KFold(n_splits=3)\n",
    "for i in range(4):\n",
    "    print(f\"{train_target2.columns[i]}\")\n",
    "    for model in [kernel_ridge, gradient_boosting, model_xgb,vot_model3]:\n",
    "        result=cross_val_score(model,train_data_2_mms,train_target2.iloc[:,i],scoring='neg_mean_absolute_error')\n",
    "        print(str(model).split('(')[0])\n",
    "        print(np.mean(result)*-1)\n",
    "    print('--'*10)"
   ]
  },
  {
   "cell_type": "code",
   "execution_count": null,
   "metadata": {},
   "outputs": [],
   "source": [
    "vot_model1 = VotingRegressor(\n",
    "    [('m1',kernel_ridge),\n",
    "     ('m2',model_xgb),\n",
    "    #  ('m3',model_lgb),\n",
    "     ('m4',gradient_boosting)]    \n",
    ")\n",
    "vot_model2 = VotingRegressor(\n",
    "    [('m1',kernel_ridge),\n",
    "     ('m2',model_xgb),\n",
    "    #  ('m3',model_lgb),\n",
    "     ('m4',gradient_boosting)]\n",
    ")\n",
    "vot_model3 = VotingRegressor(\n",
    "    [('m1',kernel_ridge),\n",
    "     ('m2',model_xgb),\n",
    "    #  ('m3',model_lgb),\n",
    "     ('m4',gradient_boosting)]    \n",
    ")\n",
    "vot_model4 = VotingRegressor(\n",
    "    [('m1',kernel_ridge),\n",
    "     ('m2',model_xgb),\n",
    "    #  ('m3',model_lgb),\n",
    "     ('m4',gradient_boosting)]    \n",
    ")"
   ]
  },
  {
   "cell_type": "code",
   "execution_count": null,
   "metadata": {},
   "outputs": [],
   "source": [
    "train_target_a = train_target2.iloc[:,0]\n",
    "train_target_b = train_target2.iloc[:,1]\n",
    "train_target_c = train_target2.iloc[:,2]\n",
    "train_target_d = train_target2.iloc[:,3]\n",
    "\n",
    "vot_model1.fit(train_data_2_mms,train_target_a)\n",
    "vot_model2.fit(train_data_2_mms,train_target_b)\n",
    "vot_model3.fit(train_data_2_mms,train_target_c)\n",
    "vot_model4.fit(train_data_2_mms,train_target_d)"
   ]
  },
  {
   "cell_type": "code",
   "execution_count": null,
   "metadata": {},
   "outputs": [],
   "source": [
    "train_target_a = train_target2.iloc[:,0]\n",
    "train_target_b = train_target2.iloc[:,1]\n",
    "train_target_c = train_target2.iloc[:,2]\n",
    "train_target_d = train_target2.iloc[:,3]\n",
    "\n",
    "vot_model1.fit(train_data_2_mms,train_target_a)\n",
    "vot_model2.fit(train_data_2_mms,train_target_b)\n",
    "vot_model3.fit(train_data_2_mms,train_target_c)\n",
    "vot_model4.fit(train_data_2_mms,train_target_d)\n",
    "\n",
    "sample_submission_raw1=pd.read_csv('./../data/raw_data/sample_submission.csv')\n",
    "\n",
    "sample_submission_raw1.iloc[:,1] =vot_model1.predict(test_data_2_mms)\n",
    "sample_submission_raw1.iloc[:,2] =vot_model2.predict(test_data_2_mms)\n",
    "sample_submission_raw1.iloc[:,3] =vot_model3.predict(test_data_2_mms)\n",
    "sample_submission_raw1.iloc[:,4] =vot_model4.predict(test_data_2_mms)\n",
    "sample_submission_raw1.iloc[:,1:].plot()"
   ]
  },
  {
   "cell_type": "code",
   "execution_count": null,
   "metadata": {},
   "outputs": [],
   "source": [
    "# 3\n",
    "train_data_3 = df_3.copy()\n",
    "test_data_3 = sample_submission_3.copy()\n",
    "\n",
    "df_2018 = train_data_3[train_data_3.index.year == 2018]\n",
    "df_2019 = train_data_3[train_data_3.index.year == 2019]\n",
    "df_2020 = train_data_3[train_data_3.index.year == 2020]\n",
    "df_2021 = train_data_3[train_data_3.index.year == 2021]\n",
    "\n",
    "for months,rain in zip([[3,4,5],[6,7,8],[9,10,11]],[31,34,23]):\n",
    "    temp=df_2018[df_2018['월'].isin(months)]\n",
    "    for location in ['광진구','동대문구','성동구','중랑구']:\n",
    "        temp.loc[temp[temp['월'].isin(months)][location].nsmallest(rain).index,location] = np.NaN\n",
    "        temp[location]=temp[location].interpolate(method='time').fillna(method='bfill').fillna(method='ffill')\n",
    "    df_2018[df_2018['월'].isin(months)] = temp\n",
    "\n",
    "for months,rain in zip([[3,4,5],[6,7,8],[9,10,11]],[17,39,23]):\n",
    "    temp=df_2019[df_2019['월'].isin(months)]\n",
    "    for location in ['광진구','동대문구','성동구','중랑구']:\n",
    "        temp.loc[temp[temp['월'].isin(months)][location].nsmallest(rain).index,location] = np.NaN\n",
    "        temp[location]=temp[location].interpolate(method='time').fillna(method='bfill').fillna(method='ffill')\n",
    "    df_2019[df_2019['월'].isin(months)] = temp\n",
    "\n",
    "for months,rain in zip([[3,4,5],[6,7,8],[9,10,11]],[20,46,20]):\n",
    "    temp=df_2020[df_2020['월'].isin(months)]\n",
    "    for location in ['광진구','동대문구','성동구','중랑구']:\n",
    "        temp.loc[temp[temp['월'].isin(months)][location].nsmallest(rain).index,location] = np.NaN\n",
    "        temp[location]=temp[location].interpolate(method='time').fillna(method='bfill').fillna(method='ffill')\n",
    "    df_2020[df_2020['월'].isin(months)] = temp\n",
    "\n",
    "for months,rain in zip([[3,4,5],[6,7,8],[9,10,11]],[35,34,25]):\n",
    "    temp=df_2021[df_2021['월'].isin(months)]\n",
    "    for location in ['광진구','동대문구','성동구','중랑구']:\n",
    "        temp.loc[temp[temp['월'].isin(months)][location].nsmallest(rain).index,location] = np.NaN\n",
    "        temp[location]=temp[location].interpolate(method='time').fillna(method='bfill').fillna(method='ffill')\n",
    "    df_2021[df_2021['월'].isin(months)] = temp\n",
    "\n",
    "train_data_3[train_data_3.index.year == 2018] = df_2018\n",
    "train_data_3[train_data_3.index.year == 2019] = df_2019\n",
    "train_data_3[train_data_3.index.year == 2020] = df_2020\n",
    "train_data_3[train_data_3.index.year == 2021] = df_2021"
   ]
  },
  {
   "cell_type": "code",
   "execution_count": null,
   "metadata": {},
   "outputs": [],
   "source": [
    "train_data_3.iloc[:,:4].mean()/df_raw.iloc[:,1:].mean()"
   ]
  },
  {
   "cell_type": "code",
   "execution_count": null,
   "metadata": {},
   "outputs": [],
   "source": [
    "_2018_345=train_data_3[(train_data_3['년']==2018) & (train_data_3['월'].isin([3,4,5]))].iloc[:,:4].mean()/df_3[(df_3['년']==2018) & (df_3['월'].isin([3,4,5]))].iloc[:,:4].mean()\n",
    "_2018_678=train_data_3[(train_data_3['년']==2018) & (train_data_3['월'].isin([6,7,8]))].iloc[:,:4].mean()/df_3[(df_3['년']==2018) & (df_3['월'].isin([6,7,8]))].iloc[:,:4].mean()\n",
    "_2018_91011=train_data_3[(train_data_3['년']==2018) & (train_data_3['월'].isin([9,10,11]))].iloc[:,:4].mean()/df_3[(df_3['년']==2018) & (df_3['월'].isin([9,10,11]))].iloc[:,:4].mean()\n",
    "\n",
    "_2019_345=train_data_3[(train_data_3['년']==2019) & (train_data_3['월'].isin([3,4,5]))].iloc[:,:4].mean()/df_3[(df_3['년']==2019) & (df_3['월'].isin([3,4,5]))].iloc[:,:4].mean()\n",
    "_2019_678=train_data_3[(train_data_3['년']==2019) & (train_data_3['월'].isin([6,7,8]))].iloc[:,:4].mean()/df_3[(df_3['년']==2019) & (df_3['월'].isin([6,7,8]))].iloc[:,:4].mean()\n",
    "_2019_91011=train_data_3[(train_data_3['년']==2019) & (train_data_3['월'].isin([9,10,11]))].iloc[:,:4].mean()/df_3[(df_3['년']==2019) & (df_3['월'].isin([9,10,11]))].iloc[:,:4].mean()\n",
    "\n",
    "_2020_345=train_data_3[(train_data_3['년']==2020) & (train_data_3['월'].isin([3,4,5]))].iloc[:,:4].mean()/df_3[(df_3['년']==2020) & (df_3['월'].isin([3,4,5]))].iloc[:,:4].mean()\n",
    "_2020_678=train_data_3[(train_data_3['년']==2020) & (train_data_3['월'].isin([6,7,8]))].iloc[:,:4].mean()/df_3[(df_3['년']==2020) & (df_3['월'].isin([6,7,8]))].iloc[:,:4].mean()\n",
    "_2020_91011=train_data_3[(train_data_3['년']==2020) & (train_data_3['월'].isin([9,10,11]))].iloc[:,:4].mean()/df_3[(df_3['년']==2020) & (df_3['월'].isin([9,10,11]))].iloc[:,:4].mean()\n",
    "\n",
    "_2021_345=train_data_3[(train_data_3['년']==2021) & (train_data_3['월'].isin([3,4,5]))].iloc[:,:4].mean()/df_3[(df_3['년']==2021) & (df_3['월'].isin([3,4,5]))].iloc[:,:4].mean()\n",
    "_2021_678=train_data_3[(train_data_3['년']==2021) & (train_data_3['월'].isin([6,7,8]))].iloc[:,:4].mean()/df_3[(df_3['년']==2021) & (df_3['월'].isin([6,7,8]))].iloc[:,:4].mean()\n",
    "_2021_91011=train_data_3[(train_data_3['년']==2021) & (train_data_3['월'].isin([9,10,11]))].iloc[:,:4].mean()/df_3[(df_3['년']==2021) & (df_3['월'].isin([9,10,11]))].iloc[:,:4].mean()"
   ]
  },
  {
   "cell_type": "code",
   "execution_count": null,
   "metadata": {},
   "outputs": [],
   "source": [
    "print((_2018_345+_2019_345+_2020_345+_2021_345)/4)\n",
    "print((_2018_678+_2019_678+_2020_678+_2021_678)/4)\n",
    "print((_2018_91011+_2019_91011+_2020_91011+_2021_91011)/4)"
   ]
  }
 ],
 "metadata": {
  "kernelspec": {
   "display_name": "Python 3.10.6 ('crawling')",
   "language": "python",
   "name": "python3"
  },
  "language_info": {
   "codemirror_mode": {
    "name": "ipython",
    "version": 3
   },
   "file_extension": ".py",
   "mimetype": "text/x-python",
   "name": "python",
   "nbconvert_exporter": "python",
   "pygments_lexer": "ipython3",
   "version": "3.10.6"
  },
  "orig_nbformat": 4,
  "vscode": {
   "interpreter": {
    "hash": "10621530bc52bc3dcaea48e2b7ef028942e35d2e6e9c9234a88fefd069caf90f"
   }
  }
 },
 "nbformat": 4,
 "nbformat_minor": 2
}
