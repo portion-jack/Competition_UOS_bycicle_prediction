{
 "cells": [
  {
   "cell_type": "code",
   "execution_count": 98,
   "metadata": {},
   "outputs": [],
   "source": [
    "import pandas as pd\n",
    "import warnings\n",
    "warnings.filterwarnings(action='ignore')"
   ]
  },
  {
   "cell_type": "code",
   "execution_count": 99,
   "metadata": {},
   "outputs": [],
   "source": [
    "train_data = pd.read_csv('../data/pps/train_data_cleaned.csv',index_col=0)\n",
    "test_data = pd.read_csv('../data/pps/test_data.csv',index_col=0)"
   ]
  },
  {
   "cell_type": "code",
   "execution_count": 100,
   "metadata": {},
   "outputs": [
    {
     "name": "stdout",
     "output_type": "stream",
     "text": [
      "<class 'pandas.core.frame.DataFrame'>\n",
      "Index: 1461 entries, 2018-01-01 to 2021-12-31\n",
      "Data columns (total 9 columns):\n",
      " #   Column  Non-Null Count  Dtype  \n",
      "---  ------  --------------  -----  \n",
      " 0   광진구     1461 non-null   float64\n",
      " 1   동대문구    1461 non-null   float64\n",
      " 2   성동구     1461 non-null   float64\n",
      " 3   중랑구     1461 non-null   float64\n",
      " 4   일       1461 non-null   int64  \n",
      " 5   월       1461 non-null   int64  \n",
      " 6   년       1461 non-null   int64  \n",
      " 7   요일      1461 non-null   int64  \n",
      " 8   주말평일    1461 non-null   object \n",
      "dtypes: float64(4), int64(4), object(1)\n",
      "memory usage: 114.1+ KB\n"
     ]
    }
   ],
   "source": [
    "train_data.info()"
   ]
  },
  {
   "cell_type": "code",
   "execution_count": 101,
   "metadata": {},
   "outputs": [],
   "source": [
    "from sklearn.preprocessing import LabelEncoder\n",
    "lbe = LabelEncoder()\n",
    "\n",
    "train_data['주말평일'] = lbe.fit_transform(train_data['주말평일'])\n",
    "train_data_raw=train_data.copy()\n",
    "test_data['주말평일'] = lbe.transform(test_data['주말평일'])\n",
    "test_data_raw=test_data.copy()"
   ]
  },
  {
   "cell_type": "code",
   "execution_count": 102,
   "metadata": {},
   "outputs": [],
   "source": [
    "train_data=train_data[~(train_data['월']==12)]"
   ]
  },
  {
   "cell_type": "code",
   "execution_count": 103,
   "metadata": {},
   "outputs": [],
   "source": [
    "train_data=pd.concat([train_data.drop(['월','요일'],axis=1),\n",
    "                      pd.get_dummies(train_data['월']),\n",
    "                      pd.get_dummies(train_data['요일'])],axis=1)\n",
    "\n",
    "test_data=pd.concat([test_data.drop(['월','요일'],axis=1),\n",
    "                     pd.get_dummies(test_data['월']),\n",
    "                     pd.get_dummies(test_data['요일'])],axis=1)"
   ]
  },
  {
   "cell_type": "code",
   "execution_count": 104,
   "metadata": {},
   "outputs": [],
   "source": [
    "train_data.to_csv('../data/final_data/train_data.csv')\n",
    "test_data.to_csv('../data/final_data/test_data.csv')"
   ]
  }
 ],
 "metadata": {
  "kernelspec": {
   "display_name": "Python 3.10.6 ('crawling')",
   "language": "python",
   "name": "python3"
  },
  "language_info": {
   "codemirror_mode": {
    "name": "ipython",
    "version": 3
   },
   "file_extension": ".py",
   "mimetype": "text/x-python",
   "name": "python",
   "nbconvert_exporter": "python",
   "pygments_lexer": "ipython3",
   "version": "3.10.6"
  },
  "orig_nbformat": 4,
  "vscode": {
   "interpreter": {
    "hash": "10621530bc52bc3dcaea48e2b7ef028942e35d2e6e9c9234a88fefd069caf90f"
   }
  }
 },
 "nbformat": 4,
 "nbformat_minor": 2
}
