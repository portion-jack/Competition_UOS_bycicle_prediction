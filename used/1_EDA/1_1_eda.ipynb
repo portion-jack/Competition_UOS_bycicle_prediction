{
 "cells": [
  {
   "cell_type": "code",
   "execution_count": null,
   "metadata": {},
   "outputs": [],
   "source": [
    "import pandas as pd\n",
    "import matplotlib.pyplot as plt \n",
    "plt.rc('font',family='AppleGothic')\n",
    "import warnings\n",
    "warnings.filterwarnings(action='ignore')\n",
    "\n",
    "df_raw=pd.read_csv('../data/raw_data/train.csv')\n",
    "df=df_raw.copy()\n",
    "\n",
    "sample_submission_raw=pd.read_csv('../data/raw_data/sample_submission.csv')\n",
    "sample_submission=sample_submission_raw.copy()"
   ]
  },
  {
   "cell_type": "code",
   "execution_count": null,
   "metadata": {},
   "outputs": [],
   "source": [
    "df['일시']=pd.to_datetime(df['일시'],format=\"%Y%m%d\")\n",
    "df.set_index('일시',inplace=True)\n",
    "\n",
    "df['일'] = df.index.day\n",
    "df['월'] = df.index.month\n",
    "df['년'] = df.index.year\n",
    "\n",
    "df['요일']=df.index.day_of_week\n",
    "df['주말평일'] = df['요일'].apply(lambda x: '평일' if x < 5 else '주말')\n",
    "# --\n",
    "\n",
    "sample_submission['일시']=pd.to_datetime(sample_submission['일시'],format=\"%Y%m%d\")\n",
    "sample_submission.set_index('일시',inplace=True)\n",
    "\n",
    "sample_submission['일'] = sample_submission.index.day\n",
    "sample_submission['월'] = sample_submission.index.month\n",
    "sample_submission['년'] = sample_submission.index.year\n",
    "\n",
    "sample_submission['요일']=sample_submission.index.day_of_week\n",
    "sample_submission['주말평일'] = sample_submission['요일'].apply(lambda x: '평일' if x < 5 else '주말')"
   ]
  },
  {
   "cell_type": "code",
   "execution_count": null,
   "metadata": {},
   "outputs": [],
   "source": [
    "df.head()"
   ]
  },
  {
   "cell_type": "code",
   "execution_count": null,
   "metadata": {},
   "outputs": [],
   "source": [
    "sample_submission.head()"
   ]
  },
  {
   "cell_type": "code",
   "execution_count": null,
   "metadata": {},
   "outputs": [],
   "source": [
    "from pytimekr import pytimekr\n",
    "def get_holiday(_year):\n",
    "    holidays=[]\n",
    "    for holiday in pytimekr.holidays(year=_year):\n",
    "        if pytimekr.red_days(holiday) != None:\n",
    "            ans = [i.strftime(\"%Y-%m-%d\") for i in pytimekr.red_days(holiday)]\n",
    "            holidays.extend(ans)\n",
    "        else:\n",
    "            ans=holiday.strftime(\"%Y-%m-%d\")\n",
    "            holidays.append(ans)\n",
    "    return list(set(holidays))"
   ]
  },
  {
   "cell_type": "code",
   "execution_count": null,
   "metadata": {},
   "outputs": [],
   "source": [
    "df.loc[get_holiday(2018),'주말평일'] = '주말'\n",
    "df.loc[get_holiday(2019),'주말평일'] = '주말'\n",
    "df.loc[get_holiday(2020),'주말평일'] = '주말'\n",
    "df.loc[get_holiday(2021),'주말평일'] = '주말'\n",
    "sample_submission.loc[sorted(get_holiday(2022))[:-1],'주말평일'] ='주말'"
   ]
  },
  {
   "cell_type": "code",
   "execution_count": null,
   "metadata": {},
   "outputs": [],
   "source": [
    "df.drop(df[df['월']==12].index,inplace=True)"
   ]
  },
  {
   "cell_type": "code",
   "execution_count": null,
   "metadata": {},
   "outputs": [],
   "source": [
    "from sklearn.preprocessing import LabelEncoder,RobustScaler\n",
    "lbe = LabelEncoder()\n",
    "rbs = RobustScaler()\n",
    "df['주말평일'] = lbe.fit_transform(df['주말평일'])\n",
    "sample_submission['주말평일'] = lbe.transform(sample_submission['주말평일'])"
   ]
  },
  {
   "cell_type": "code",
   "execution_count": null,
   "metadata": {},
   "outputs": [],
   "source": [
    "df"
   ]
  },
  {
   "cell_type": "code",
   "execution_count": null,
   "metadata": {},
   "outputs": [],
   "source": [
    "df_2018 = df[df.index.year == 2018]\n",
    "df_2019 = df[df.index.year == 2019]\n",
    "df_2020 = df[df.index.year == 2020]\n",
    "df_2021 = df[df.index.year == 2021]"
   ]
  },
  {
   "cell_type": "code",
   "execution_count": null,
   "metadata": {},
   "outputs": [],
   "source": [
    "plt.figure(figsize=(14,7))\n",
    "df_2018.iloc[:,1].reset_index(drop=True).plot()\n",
    "df_2019.iloc[:,1].reset_index(drop=True).plot()\n",
    "df_2020.iloc[:,1].reset_index(drop=True).plot()\n",
    "df_2021.iloc[:,1].reset_index(drop=True).plot()\n",
    "plt.tight_layout()\n",
    "plt.show()"
   ]
  },
  {
   "cell_type": "code",
   "execution_count": null,
   "metadata": {},
   "outputs": [],
   "source": [
    "df_2018.reset_index()\n",
    "import seaborn as sns\n",
    "plt.figure(figsize=(14,10))\n",
    "plt.subplot(2,2,1)\n",
    "sns.scatterplot(data=df_2018.reset_index(),\n",
    "                x='일시',\n",
    "                y='광진구',\n",
    "                hue='주말평일')\n",
    "plt.subplot(2,2,2)\n",
    "sns.scatterplot(data=df_2018.reset_index(),\n",
    "                x='일시',\n",
    "                y='동대문구',\n",
    "                hue='주말평일')\n",
    "plt.subplot(2,2,3)\n",
    "sns.scatterplot(data=df_2018.reset_index(),\n",
    "                x='일시',\n",
    "                y='성동구',\n",
    "                hue='주말평일')\n",
    "plt.subplot(2,2,4)\n",
    "sns.scatterplot(data=df_2018.reset_index(),\n",
    "                x='일시',\n",
    "                y='중랑구',\n",
    "                hue='주말평일')\n",
    "plt.tight_layout()\n",
    "plt.show()"
   ]
  },
  {
   "cell_type": "code",
   "execution_count": null,
   "metadata": {},
   "outputs": [],
   "source": [
    "df_2019.reset_index()\n",
    "import seaborn as sns\n",
    "plt.figure(figsize=(14,10))\n",
    "plt.subplot(2,2,1)\n",
    "sns.scatterplot(data=df_2019.reset_index(),\n",
    "                x='일시',\n",
    "                y='광진구',\n",
    "                hue='주말평일')\n",
    "plt.subplot(2,2,2)\n",
    "sns.scatterplot(data=df_2019.reset_index(),\n",
    "                x='일시',\n",
    "                y='동대문구',\n",
    "                hue='주말평일')\n",
    "plt.subplot(2,2,3)\n",
    "sns.scatterplot(data=df_2019.reset_index(),\n",
    "                x='일시',\n",
    "                y='성동구',\n",
    "                hue='주말평일')\n",
    "plt.subplot(2,2,4)\n",
    "sns.scatterplot(data=df_2019.reset_index(),\n",
    "                x='일시',\n",
    "                y='중랑구',\n",
    "                hue='주말평일')\n",
    "plt.tight_layout()\n",
    "plt.show()"
   ]
  },
  {
   "cell_type": "code",
   "execution_count": null,
   "metadata": {},
   "outputs": [],
   "source": [
    "df_2020.reset_index()\n",
    "import seaborn as sns\n",
    "plt.figure(figsize=(14,10))\n",
    "plt.subplot(2,2,1)\n",
    "sns.scatterplot(data=df_2020.reset_index(),\n",
    "                x='일시',\n",
    "                y='광진구',\n",
    "                hue='주말평일')\n",
    "plt.subplot(2,2,2)\n",
    "sns.scatterplot(data=df_2020.reset_index(),\n",
    "                x='일시',\n",
    "                y='동대문구',\n",
    "                hue='주말평일')\n",
    "plt.subplot(2,2,3)\n",
    "sns.scatterplot(data=df_2020.reset_index(),\n",
    "                x='일시',\n",
    "                y='성동구',\n",
    "                hue='주말평일')\n",
    "plt.subplot(2,2,4)\n",
    "sns.scatterplot(data=df_2020.reset_index(),\n",
    "                x='일시',\n",
    "                y='중랑구',\n",
    "                hue='주말평일')\n",
    "plt.tight_layout()\n",
    "plt.show()"
   ]
  },
  {
   "cell_type": "code",
   "execution_count": null,
   "metadata": {},
   "outputs": [],
   "source": [
    "df_2021.reset_index()\n",
    "import seaborn as sns\n",
    "plt.figure(figsize=(14,10))\n",
    "plt.subplot(2,2,1)\n",
    "sns.scatterplot(data=df_2021.reset_index(),\n",
    "                x='일시',\n",
    "                y='광진구',\n",
    "                hue='주말평일')\n",
    "plt.subplot(2,2,2)\n",
    "sns.scatterplot(data=df_2021.reset_index(),\n",
    "                x='일시',\n",
    "                y='동대문구',\n",
    "                hue='주말평일')\n",
    "plt.subplot(2,2,3)\n",
    "sns.scatterplot(data=df_2021.reset_index(),\n",
    "                x='일시',\n",
    "                y='성동구',\n",
    "                hue='주말평일')\n",
    "plt.subplot(2,2,4)\n",
    "sns.scatterplot(data=df_2021.reset_index(),\n",
    "                x='일시',\n",
    "                y='중랑구',\n",
    "                hue='주말평일')\n",
    "plt.tight_layout()\n",
    "plt.show()"
   ]
  },
  {
   "cell_type": "code",
   "execution_count": null,
   "metadata": {},
   "outputs": [],
   "source": [
    "temp=df_2018.groupby('요일').mean()\n",
    "\n",
    "temp\n",
    "import seaborn as sns\n",
    "plt.figure(figsize=(10,6))\n",
    "plt.subplot(2,2,1)\n",
    "sns.barplot(data=temp.reset_index(),\n",
    "                x='요일',\n",
    "                y='광진구')\n",
    "plt.subplot(2,2,2)\n",
    "sns.barplot(data=temp.reset_index(),\n",
    "                x='요일',\n",
    "                y='동대문구')\n",
    "plt.subplot(2,2,3)\n",
    "sns.barplot(data=temp.reset_index(),\n",
    "                x='요일',\n",
    "                y='성동구')\n",
    "plt.subplot(2,2,4)\n",
    "sns.barplot(data=temp.reset_index(),\n",
    "                x='요일',\n",
    "                y='중랑구')\n",
    "plt.tight_layout()\n",
    "plt.show()"
   ]
  },
  {
   "cell_type": "code",
   "execution_count": null,
   "metadata": {},
   "outputs": [],
   "source": [
    "temp=df_2021.groupby('요일').mean()\n",
    "\n",
    "temp\n",
    "import seaborn as sns\n",
    "plt.figure(figsize=(10,6))\n",
    "plt.subplot(2,2,1)\n",
    "sns.barplot(data=temp.reset_index(),\n",
    "                x='요일',\n",
    "                y='광진구')\n",
    "plt.subplot(2,2,2)\n",
    "sns.barplot(data=temp.reset_index(),\n",
    "                x='요일',\n",
    "                y='동대문구')\n",
    "plt.subplot(2,2,3)\n",
    "sns.barplot(data=temp.reset_index(),\n",
    "                x='요일',\n",
    "                y='성동구')\n",
    "plt.subplot(2,2,4)\n",
    "sns.barplot(data=temp.reset_index(),\n",
    "                x='요일',\n",
    "                y='중랑구')\n",
    "plt.tight_layout()\n",
    "plt.show()"
   ]
  },
  {
   "cell_type": "code",
   "execution_count": null,
   "metadata": {},
   "outputs": [],
   "source": [
    "df.to_csv('../data/pps/train_data.csv')"
   ]
  },
  {
   "cell_type": "code",
   "execution_count": null,
   "metadata": {},
   "outputs": [],
   "source": [
    "sample_submission.to_csv('../data/pps/test_data.csv')"
   ]
  }
 ],
 "metadata": {
  "kernelspec": {
   "display_name": "Python 3.10.6 ('crawling')",
   "language": "python",
   "name": "python3"
  },
  "language_info": {
   "codemirror_mode": {
    "name": "ipython",
    "version": 3
   },
   "file_extension": ".py",
   "mimetype": "text/x-python",
   "name": "python",
   "nbconvert_exporter": "python",
   "pygments_lexer": "ipython3",
   "version": "3.10.6"
  },
  "orig_nbformat": 4,
  "vscode": {
   "interpreter": {
    "hash": "10621530bc52bc3dcaea48e2b7ef028942e35d2e6e9c9234a88fefd069caf90f"
   }
  }
 },
 "nbformat": 4,
 "nbformat_minor": 2
}
