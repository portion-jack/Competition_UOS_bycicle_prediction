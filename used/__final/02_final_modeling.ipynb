{
 "cells": [
  {
   "cell_type": "code",
   "execution_count": 41,
   "metadata": {},
   "outputs": [],
   "source": [
    "import pandas as pd"
   ]
  },
  {
   "cell_type": "code",
   "execution_count": 42,
   "metadata": {},
   "outputs": [],
   "source": [
    "data=pd.read_csv('pps_data.csv',index_col=0)\n",
    "target=pd.read_csv('pps_target.csv',index_col=0)\n",
    "sample_submission=pd.read_csv('sample_submission_raw.csv',index_col=0)"
   ]
  },
  {
   "cell_type": "code",
   "execution_count": 43,
   "metadata": {},
   "outputs": [],
   "source": [
    "data.index = pd.to_datetime(data.index,format='%Y-%m-%d')\n",
    "target.index = pd.to_datetime(target.index,format='%Y-%m-%d')"
   ]
  },
  {
   "cell_type": "code",
   "execution_count": 44,
   "metadata": {},
   "outputs": [],
   "source": [
    "data_mms=data.copy()"
   ]
  },
  {
   "cell_type": "code",
   "execution_count": 45,
   "metadata": {},
   "outputs": [],
   "source": [
    "df_2018_raw = data[data.index.year == 2018]\n",
    "df_2019_raw = data[data.index.year == 2019]\n",
    "df_2020_raw = data[data.index.year == 2020]\n",
    "df_2021_raw = data[data.index.year == 2021]"
   ]
  },
  {
   "cell_type": "code",
   "execution_count": 46,
   "metadata": {},
   "outputs": [
    {
     "name": "stderr",
     "output_type": "stream",
     "text": [
      "/var/folders/r1/58cpj4hx7j75vx_3j1y6vpvw0000gn/T/ipykernel_18553/2030361634.py:8: SettingWithCopyWarning: \n",
      "A value is trying to be set on a copy of a slice from a DataFrame.\n",
      "Try using .loc[row_indexer,col_indexer] = value instead\n",
      "\n",
      "See the caveats in the documentation: https://pandas.pydata.org/pandas-docs/stable/user_guide/indexing.html#returning-a-view-versus-a-copy\n",
      "  df_2018_raw.iloc[:,:4] = mms_2018.fit_transform(df_2018_raw.iloc[:,:4])\n",
      "/var/folders/r1/58cpj4hx7j75vx_3j1y6vpvw0000gn/T/ipykernel_18553/2030361634.py:9: SettingWithCopyWarning: \n",
      "A value is trying to be set on a copy of a slice from a DataFrame.\n",
      "Try using .loc[row_indexer,col_indexer] = value instead\n",
      "\n",
      "See the caveats in the documentation: https://pandas.pydata.org/pandas-docs/stable/user_guide/indexing.html#returning-a-view-versus-a-copy\n",
      "  df_2019_raw.iloc[:,:4] = mms_2019.fit_transform(df_2019_raw.iloc[:,:4])\n",
      "/var/folders/r1/58cpj4hx7j75vx_3j1y6vpvw0000gn/T/ipykernel_18553/2030361634.py:10: SettingWithCopyWarning: \n",
      "A value is trying to be set on a copy of a slice from a DataFrame.\n",
      "Try using .loc[row_indexer,col_indexer] = value instead\n",
      "\n",
      "See the caveats in the documentation: https://pandas.pydata.org/pandas-docs/stable/user_guide/indexing.html#returning-a-view-versus-a-copy\n",
      "  df_2020_raw.iloc[:,:4] = mms_2020.fit_transform(df_2020_raw.iloc[:,:4])\n",
      "/var/folders/r1/58cpj4hx7j75vx_3j1y6vpvw0000gn/T/ipykernel_18553/2030361634.py:11: SettingWithCopyWarning: \n",
      "A value is trying to be set on a copy of a slice from a DataFrame.\n",
      "Try using .loc[row_indexer,col_indexer] = value instead\n",
      "\n",
      "See the caveats in the documentation: https://pandas.pydata.org/pandas-docs/stable/user_guide/indexing.html#returning-a-view-versus-a-copy\n",
      "  df_2021_raw.iloc[:,:4] = mms_2021.fit_transform(df_2021_raw.iloc[:,:4])\n"
     ]
    }
   ],
   "source": [
    "from sklearn.preprocessing import MinMaxScaler\n",
    "mms_2018 = MinMaxScaler()\n",
    "mms_2019 = MinMaxScaler()\n",
    "mms_2020 = MinMaxScaler()\n",
    "mms_2021 = MinMaxScaler()\n",
    "\n",
    "\n",
    "df_2018_raw.iloc[:,:4] = mms_2018.fit_transform(df_2018_raw.iloc[:,:4])\n",
    "df_2019_raw.iloc[:,:4] = mms_2019.fit_transform(df_2019_raw.iloc[:,:4])\n",
    "df_2020_raw.iloc[:,:4] = mms_2020.fit_transform(df_2020_raw.iloc[:,:4])\n",
    "df_2021_raw.iloc[:,:4] = mms_2021.fit_transform(df_2021_raw.iloc[:,:4])"
   ]
  },
  {
   "cell_type": "code",
   "execution_count": 47,
   "metadata": {},
   "outputs": [],
   "source": [
    "df_2018_week_mean=df_2018_raw.groupby(['주','주말평일'])[['광진구','동대문구','성동구','중랑구']].mean().reset_index()\n",
    "df_2019_week_mean=df_2019_raw.groupby(['주','주말평일'])[['광진구','동대문구','성동구','중랑구']].mean().reset_index()\n",
    "df_2020_week_mean=df_2020_raw.groupby(['주','주말평일'])[['광진구','동대문구','성동구','중랑구']].mean().reset_index()\n",
    "df_2021_week_mean=df_2021_raw.groupby(['주','주말평일'])[['광진구','동대문구','성동구','중랑구']].mean().reset_index()"
   ]
  },
  {
   "cell_type": "code",
   "execution_count": 48,
   "metadata": {},
   "outputs": [],
   "source": [
    "temp_1=pd.merge(df_2018_week_mean.iloc[:,[0,1,2]],df_2019_week_mean.iloc[:,[0,1,2]],on=['주','주말평일'])\n",
    "temp_2=pd.merge(df_2020_week_mean.iloc[:,[0,1,2]],df_2021_week_mean.iloc[:,[0,1,2]],on=['주','주말평일'])\n",
    "result_1=pd.merge(temp_1,temp_2,on=['주','주말평일'])"
   ]
  },
  {
   "cell_type": "code",
   "execution_count": 49,
   "metadata": {},
   "outputs": [],
   "source": [
    "temp_1=pd.merge(df_2018_week_mean.iloc[:,[0,1,3]],df_2019_week_mean.iloc[:,[0,1,3]],on=['주','주말평일'])\n",
    "temp_2=pd.merge(df_2020_week_mean.iloc[:,[0,1,3]],df_2021_week_mean.iloc[:,[0,1,3]],on=['주','주말평일'])\n",
    "result_2=pd.merge(temp_1,temp_2,on=['주','주말평일'])"
   ]
  },
  {
   "cell_type": "code",
   "execution_count": 50,
   "metadata": {},
   "outputs": [],
   "source": [
    "temp_1=pd.merge(df_2018_week_mean.iloc[:,[0,1,4]],df_2019_week_mean.iloc[:,[0,1,4]],on=['주','주말평일'])\n",
    "temp_2=pd.merge(df_2020_week_mean.iloc[:,[0,1,4]],df_2021_week_mean.iloc[:,[0,1,4]],on=['주','주말평일'])\n",
    "result_3=pd.merge(temp_1,temp_2,on=['주','주말평일'])"
   ]
  },
  {
   "cell_type": "code",
   "execution_count": 51,
   "metadata": {},
   "outputs": [],
   "source": [
    "temp_1=pd.merge(df_2018_week_mean.iloc[:,[0,1,5]],df_2019_week_mean.iloc[:,[0,1,5]],on=['주','주말평일'])\n",
    "temp_2=pd.merge(df_2020_week_mean.iloc[:,[0,1,5]],df_2021_week_mean.iloc[:,[0,1,5]],on=['주','주말평일'])\n",
    "result_4=pd.merge(temp_1,temp_2,on=['주','주말평일'])"
   ]
  },
  {
   "cell_type": "code",
   "execution_count": 52,
   "metadata": {},
   "outputs": [
    {
     "data": {
      "text/html": [
       "<div>\n",
       "<style scoped>\n",
       "    .dataframe tbody tr th:only-of-type {\n",
       "        vertical-align: middle;\n",
       "    }\n",
       "\n",
       "    .dataframe tbody tr th {\n",
       "        vertical-align: top;\n",
       "    }\n",
       "\n",
       "    .dataframe thead th {\n",
       "        text-align: right;\n",
       "    }\n",
       "</style>\n",
       "<table border=\"1\" class=\"dataframe\">\n",
       "  <thead>\n",
       "    <tr style=\"text-align: right;\">\n",
       "      <th></th>\n",
       "      <th>주</th>\n",
       "      <th>주말평일</th>\n",
       "      <th>광진구_x_x</th>\n",
       "      <th>광진구_y_x</th>\n",
       "      <th>광진구_x_y</th>\n",
       "      <th>광진구_y_y</th>\n",
       "    </tr>\n",
       "  </thead>\n",
       "  <tbody>\n",
       "    <tr>\n",
       "      <th>0</th>\n",
       "      <td>1</td>\n",
       "      <td>주말</td>\n",
       "      <td>0.053458</td>\n",
       "      <td>0.106525</td>\n",
       "      <td>0.206283</td>\n",
       "      <td>0.043940</td>\n",
       "    </tr>\n",
       "    <tr>\n",
       "      <th>1</th>\n",
       "      <td>1</td>\n",
       "      <td>평일</td>\n",
       "      <td>0.092121</td>\n",
       "      <td>0.166236</td>\n",
       "      <td>0.265149</td>\n",
       "      <td>0.109433</td>\n",
       "    </tr>\n",
       "    <tr>\n",
       "      <th>2</th>\n",
       "      <td>2</td>\n",
       "      <td>주말</td>\n",
       "      <td>0.040793</td>\n",
       "      <td>0.135649</td>\n",
       "      <td>0.202795</td>\n",
       "      <td>0.106087</td>\n",
       "    </tr>\n",
       "    <tr>\n",
       "      <th>3</th>\n",
       "      <td>2</td>\n",
       "      <td>평일</td>\n",
       "      <td>0.051469</td>\n",
       "      <td>0.162591</td>\n",
       "      <td>0.174121</td>\n",
       "      <td>0.128487</td>\n",
       "    </tr>\n",
       "    <tr>\n",
       "      <th>4</th>\n",
       "      <td>3</td>\n",
       "      <td>주말</td>\n",
       "      <td>0.066783</td>\n",
       "      <td>0.132767</td>\n",
       "      <td>0.199364</td>\n",
       "      <td>0.273314</td>\n",
       "    </tr>\n",
       "    <tr>\n",
       "      <th>...</th>\n",
       "      <td>...</td>\n",
       "      <td>...</td>\n",
       "      <td>...</td>\n",
       "      <td>...</td>\n",
       "      <td>...</td>\n",
       "      <td>...</td>\n",
       "    </tr>\n",
       "    <tr>\n",
       "      <th>98</th>\n",
       "      <td>50</td>\n",
       "      <td>주말</td>\n",
       "      <td>0.149184</td>\n",
       "      <td>0.287884</td>\n",
       "      <td>0.209993</td>\n",
       "      <td>0.117106</td>\n",
       "    </tr>\n",
       "    <tr>\n",
       "      <th>99</th>\n",
       "      <td>50</td>\n",
       "      <td>평일</td>\n",
       "      <td>0.227133</td>\n",
       "      <td>0.321788</td>\n",
       "      <td>0.392735</td>\n",
       "      <td>0.362214</td>\n",
       "    </tr>\n",
       "    <tr>\n",
       "      <th>100</th>\n",
       "      <td>51</td>\n",
       "      <td>주말</td>\n",
       "      <td>0.190559</td>\n",
       "      <td>0.227301</td>\n",
       "      <td>0.189571</td>\n",
       "      <td>0.099637</td>\n",
       "    </tr>\n",
       "    <tr>\n",
       "      <th>101</th>\n",
       "      <td>51</td>\n",
       "      <td>평일</td>\n",
       "      <td>0.277343</td>\n",
       "      <td>0.320417</td>\n",
       "      <td>0.222765</td>\n",
       "      <td>0.382370</td>\n",
       "    </tr>\n",
       "    <tr>\n",
       "      <th>102</th>\n",
       "      <td>52</td>\n",
       "      <td>평일</td>\n",
       "      <td>0.175466</td>\n",
       "      <td>0.265535</td>\n",
       "      <td>0.310805</td>\n",
       "      <td>0.260548</td>\n",
       "    </tr>\n",
       "  </tbody>\n",
       "</table>\n",
       "<p>103 rows × 6 columns</p>\n",
       "</div>"
      ],
      "text/plain": [
       "      주 주말평일   광진구_x_x   광진구_y_x   광진구_x_y   광진구_y_y\n",
       "0     1   주말  0.053458  0.106525  0.206283  0.043940\n",
       "1     1   평일  0.092121  0.166236  0.265149  0.109433\n",
       "2     2   주말  0.040793  0.135649  0.202795  0.106087\n",
       "3     2   평일  0.051469  0.162591  0.174121  0.128487\n",
       "4     3   주말  0.066783  0.132767  0.199364  0.273314\n",
       "..   ..  ...       ...       ...       ...       ...\n",
       "98   50   주말  0.149184  0.287884  0.209993  0.117106\n",
       "99   50   평일  0.227133  0.321788  0.392735  0.362214\n",
       "100  51   주말  0.190559  0.227301  0.189571  0.099637\n",
       "101  51   평일  0.277343  0.320417  0.222765  0.382370\n",
       "102  52   평일  0.175466  0.265535  0.310805  0.260548\n",
       "\n",
       "[103 rows x 6 columns]"
      ]
     },
     "execution_count": 52,
     "metadata": {},
     "output_type": "execute_result"
    }
   ],
   "source": [
    "result_1"
   ]
  },
  {
   "cell_type": "code",
   "execution_count": 53,
   "metadata": {},
   "outputs": [],
   "source": [
    "result_1['mean_광진구'] = result_1.iloc[:,2:].mean(axis=1)\n",
    "result_2['mean_동대문구'] = result_2.iloc[:,2:].mean(axis=1)\n",
    "result_3['mean_성동구'] = result_3.iloc[:,2:].mean(axis=1)\n",
    "result_4['mean_중랑구'] = result_4.iloc[:,2:].mean(axis=1)"
   ]
  },
  {
   "cell_type": "code",
   "execution_count": 54,
   "metadata": {},
   "outputs": [
    {
     "data": {
      "text/html": [
       "<div>\n",
       "<style scoped>\n",
       "    .dataframe tbody tr th:only-of-type {\n",
       "        vertical-align: middle;\n",
       "    }\n",
       "\n",
       "    .dataframe tbody tr th {\n",
       "        vertical-align: top;\n",
       "    }\n",
       "\n",
       "    .dataframe thead th {\n",
       "        text-align: right;\n",
       "    }\n",
       "</style>\n",
       "<table border=\"1\" class=\"dataframe\">\n",
       "  <thead>\n",
       "    <tr style=\"text-align: right;\">\n",
       "      <th></th>\n",
       "      <th>주</th>\n",
       "      <th>주말평일</th>\n",
       "      <th>mean_광진구</th>\n",
       "      <th>mean_동대문구</th>\n",
       "      <th>mean_성동구</th>\n",
       "      <th>mean_중랑구</th>\n",
       "    </tr>\n",
       "  </thead>\n",
       "  <tbody>\n",
       "    <tr>\n",
       "      <th>0</th>\n",
       "      <td>1</td>\n",
       "      <td>주말</td>\n",
       "      <td>0.102551</td>\n",
       "      <td>0.110144</td>\n",
       "      <td>0.090020</td>\n",
       "      <td>0.097063</td>\n",
       "    </tr>\n",
       "    <tr>\n",
       "      <th>1</th>\n",
       "      <td>1</td>\n",
       "      <td>평일</td>\n",
       "      <td>0.158235</td>\n",
       "      <td>0.169216</td>\n",
       "      <td>0.167271</td>\n",
       "      <td>0.144972</td>\n",
       "    </tr>\n",
       "    <tr>\n",
       "      <th>2</th>\n",
       "      <td>2</td>\n",
       "      <td>주말</td>\n",
       "      <td>0.121331</td>\n",
       "      <td>0.127660</td>\n",
       "      <td>0.105426</td>\n",
       "      <td>0.121485</td>\n",
       "    </tr>\n",
       "    <tr>\n",
       "      <th>3</th>\n",
       "      <td>2</td>\n",
       "      <td>평일</td>\n",
       "      <td>0.129167</td>\n",
       "      <td>0.136421</td>\n",
       "      <td>0.141860</td>\n",
       "      <td>0.118142</td>\n",
       "    </tr>\n",
       "    <tr>\n",
       "      <th>4</th>\n",
       "      <td>3</td>\n",
       "      <td>주말</td>\n",
       "      <td>0.168057</td>\n",
       "      <td>0.165944</td>\n",
       "      <td>0.164965</td>\n",
       "      <td>0.165005</td>\n",
       "    </tr>\n",
       "    <tr>\n",
       "      <th>...</th>\n",
       "      <td>...</td>\n",
       "      <td>...</td>\n",
       "      <td>...</td>\n",
       "      <td>...</td>\n",
       "      <td>...</td>\n",
       "      <td>...</td>\n",
       "    </tr>\n",
       "    <tr>\n",
       "      <th>98</th>\n",
       "      <td>50</td>\n",
       "      <td>주말</td>\n",
       "      <td>0.191042</td>\n",
       "      <td>0.225049</td>\n",
       "      <td>0.173257</td>\n",
       "      <td>0.217099</td>\n",
       "    </tr>\n",
       "    <tr>\n",
       "      <th>99</th>\n",
       "      <td>50</td>\n",
       "      <td>평일</td>\n",
       "      <td>0.325968</td>\n",
       "      <td>0.379592</td>\n",
       "      <td>0.318696</td>\n",
       "      <td>0.337889</td>\n",
       "    </tr>\n",
       "    <tr>\n",
       "      <th>100</th>\n",
       "      <td>51</td>\n",
       "      <td>주말</td>\n",
       "      <td>0.176767</td>\n",
       "      <td>0.203315</td>\n",
       "      <td>0.149763</td>\n",
       "      <td>0.204617</td>\n",
       "    </tr>\n",
       "    <tr>\n",
       "      <th>101</th>\n",
       "      <td>51</td>\n",
       "      <td>평일</td>\n",
       "      <td>0.300724</td>\n",
       "      <td>0.352451</td>\n",
       "      <td>0.307887</td>\n",
       "      <td>0.318637</td>\n",
       "    </tr>\n",
       "    <tr>\n",
       "      <th>102</th>\n",
       "      <td>52</td>\n",
       "      <td>평일</td>\n",
       "      <td>0.253089</td>\n",
       "      <td>0.288318</td>\n",
       "      <td>0.251973</td>\n",
       "      <td>0.270256</td>\n",
       "    </tr>\n",
       "  </tbody>\n",
       "</table>\n",
       "<p>103 rows × 6 columns</p>\n",
       "</div>"
      ],
      "text/plain": [
       "      주 주말평일  mean_광진구  mean_동대문구  mean_성동구  mean_중랑구\n",
       "0     1   주말  0.102551   0.110144  0.090020  0.097063\n",
       "1     1   평일  0.158235   0.169216  0.167271  0.144972\n",
       "2     2   주말  0.121331   0.127660  0.105426  0.121485\n",
       "3     2   평일  0.129167   0.136421  0.141860  0.118142\n",
       "4     3   주말  0.168057   0.165944  0.164965  0.165005\n",
       "..   ..  ...       ...        ...       ...       ...\n",
       "98   50   주말  0.191042   0.225049  0.173257  0.217099\n",
       "99   50   평일  0.325968   0.379592  0.318696  0.337889\n",
       "100  51   주말  0.176767   0.203315  0.149763  0.204617\n",
       "101  51   평일  0.300724   0.352451  0.307887  0.318637\n",
       "102  52   평일  0.253089   0.288318  0.251973  0.270256\n",
       "\n",
       "[103 rows x 6 columns]"
      ]
     },
     "execution_count": 54,
     "metadata": {},
     "output_type": "execute_result"
    }
   ],
   "source": [
    "result=pd.concat([result_1.loc[:,['주','주말평일','mean_광진구']],result_2.loc[:,['주','주말평일','mean_동대문구']],result_3.loc[:,['주','주말평일','mean_성동구']],result_4.loc[:,['주','주말평일','mean_중랑구']]],axis=1)\n",
    "result=result.iloc[:,[0,1,2,5,8,11]]\n",
    "result"
   ]
  },
  {
   "cell_type": "code",
   "execution_count": 55,
   "metadata": {},
   "outputs": [],
   "source": [
    "df_2018_raw = data[data.index.year == 2018]\n",
    "df_2019_raw = data[data.index.year == 2019]\n",
    "df_2020_raw = data[data.index.year == 2020]\n",
    "df_2021_raw = data[data.index.year == 2021]"
   ]
  },
  {
   "cell_type": "code",
   "execution_count": 56,
   "metadata": {},
   "outputs": [],
   "source": [
    "df_2018_week_mean=df_2018_raw.groupby(['주','주말평일'])[['광진구','동대문구','성동구','중랑구']].mean().reset_index()\n",
    "df_2019_week_mean=df_2019_raw.groupby(['주','주말평일'])[['광진구','동대문구','성동구','중랑구']].mean().reset_index()\n",
    "df_2020_week_mean=df_2020_raw.groupby(['주','주말평일'])[['광진구','동대문구','성동구','중랑구']].mean().reset_index()\n",
    "df_2021_week_mean=df_2021_raw.groupby(['주','주말평일'])[['광진구','동대문구','성동구','중랑구']].mean().reset_index()"
   ]
  },
  {
   "cell_type": "code",
   "execution_count": 57,
   "metadata": {},
   "outputs": [
    {
     "data": {
      "text/html": [
       "<style>#sk-container-id-2 {color: black;background-color: white;}#sk-container-id-2 pre{padding: 0;}#sk-container-id-2 div.sk-toggleable {background-color: white;}#sk-container-id-2 label.sk-toggleable__label {cursor: pointer;display: block;width: 100%;margin-bottom: 0;padding: 0.3em;box-sizing: border-box;text-align: center;}#sk-container-id-2 label.sk-toggleable__label-arrow:before {content: \"▸\";float: left;margin-right: 0.25em;color: #696969;}#sk-container-id-2 label.sk-toggleable__label-arrow:hover:before {color: black;}#sk-container-id-2 div.sk-estimator:hover label.sk-toggleable__label-arrow:before {color: black;}#sk-container-id-2 div.sk-toggleable__content {max-height: 0;max-width: 0;overflow: hidden;text-align: left;background-color: #f0f8ff;}#sk-container-id-2 div.sk-toggleable__content pre {margin: 0.2em;color: black;border-radius: 0.25em;background-color: #f0f8ff;}#sk-container-id-2 input.sk-toggleable__control:checked~div.sk-toggleable__content {max-height: 200px;max-width: 100%;overflow: auto;}#sk-container-id-2 input.sk-toggleable__control:checked~label.sk-toggleable__label-arrow:before {content: \"▾\";}#sk-container-id-2 div.sk-estimator input.sk-toggleable__control:checked~label.sk-toggleable__label {background-color: #d4ebff;}#sk-container-id-2 div.sk-label input.sk-toggleable__control:checked~label.sk-toggleable__label {background-color: #d4ebff;}#sk-container-id-2 input.sk-hidden--visually {border: 0;clip: rect(1px 1px 1px 1px);clip: rect(1px, 1px, 1px, 1px);height: 1px;margin: -1px;overflow: hidden;padding: 0;position: absolute;width: 1px;}#sk-container-id-2 div.sk-estimator {font-family: monospace;background-color: #f0f8ff;border: 1px dotted black;border-radius: 0.25em;box-sizing: border-box;margin-bottom: 0.5em;}#sk-container-id-2 div.sk-estimator:hover {background-color: #d4ebff;}#sk-container-id-2 div.sk-parallel-item::after {content: \"\";width: 100%;border-bottom: 1px solid gray;flex-grow: 1;}#sk-container-id-2 div.sk-label:hover label.sk-toggleable__label {background-color: #d4ebff;}#sk-container-id-2 div.sk-serial::before {content: \"\";position: absolute;border-left: 1px solid gray;box-sizing: border-box;top: 0;bottom: 0;left: 50%;z-index: 0;}#sk-container-id-2 div.sk-serial {display: flex;flex-direction: column;align-items: center;background-color: white;padding-right: 0.2em;padding-left: 0.2em;position: relative;}#sk-container-id-2 div.sk-item {position: relative;z-index: 1;}#sk-container-id-2 div.sk-parallel {display: flex;align-items: stretch;justify-content: center;background-color: white;position: relative;}#sk-container-id-2 div.sk-item::before, #sk-container-id-2 div.sk-parallel-item::before {content: \"\";position: absolute;border-left: 1px solid gray;box-sizing: border-box;top: 0;bottom: 0;left: 50%;z-index: -1;}#sk-container-id-2 div.sk-parallel-item {display: flex;flex-direction: column;z-index: 1;position: relative;background-color: white;}#sk-container-id-2 div.sk-parallel-item:first-child::after {align-self: flex-end;width: 50%;}#sk-container-id-2 div.sk-parallel-item:last-child::after {align-self: flex-start;width: 50%;}#sk-container-id-2 div.sk-parallel-item:only-child::after {width: 0;}#sk-container-id-2 div.sk-dashed-wrapped {border: 1px dashed gray;margin: 0 0.4em 0.5em 0.4em;box-sizing: border-box;padding-bottom: 0.4em;background-color: white;}#sk-container-id-2 div.sk-label label {font-family: monospace;font-weight: bold;display: inline-block;line-height: 1.2em;}#sk-container-id-2 div.sk-label-container {text-align: center;}#sk-container-id-2 div.sk-container {/* jupyter's `normalize.less` sets `[hidden] { display: none; }` but bootstrap.min.css set `[hidden] { display: none !important; }` so we also need the `!important` here to be able to override the default hidden behavior on the sphinx rendered scikit-learn.org. See: https://github.com/scikit-learn/scikit-learn/issues/21755 */display: inline-block !important;position: relative;}#sk-container-id-2 div.sk-text-repr-fallback {display: none;}</style><div id=\"sk-container-id-2\" class=\"sk-top-container\"><div class=\"sk-text-repr-fallback\"><pre>MinMaxScaler()</pre><b>In a Jupyter environment, please rerun this cell to show the HTML representation or trust the notebook. <br />On GitHub, the HTML representation is unable to render, please try loading this page with nbviewer.org.</b></div><div class=\"sk-container\" hidden><div class=\"sk-item\"><div class=\"sk-estimator sk-toggleable\"><input class=\"sk-toggleable__control sk-hidden--visually\" id=\"sk-estimator-id-2\" type=\"checkbox\" checked><label for=\"sk-estimator-id-2\" class=\"sk-toggleable__label sk-toggleable__label-arrow\">MinMaxScaler</label><div class=\"sk-toggleable__content\"><pre>MinMaxScaler()</pre></div></div></div></div></div>"
      ],
      "text/plain": [
       "MinMaxScaler()"
      ]
     },
     "execution_count": 57,
     "metadata": {},
     "output_type": "execute_result"
    }
   ],
   "source": [
    "from sklearn.preprocessing import MinMaxScaler\n",
    "\n",
    "mms1 = MinMaxScaler()\n",
    "mms1.fit(df_2018_week_mean.iloc[:,2:])\n",
    "\n",
    "mms2 = MinMaxScaler()\n",
    "mms2.fit(df_2019_week_mean.iloc[:,2:])\n",
    "\n",
    "mms3 = MinMaxScaler()\n",
    "mms3.fit(df_2020_week_mean.iloc[:,2:])\n",
    "\n",
    "mms4 = MinMaxScaler()\n",
    "mms4.fit(df_2021_week_mean.iloc[:,2:])"
   ]
  },
  {
   "cell_type": "code",
   "execution_count": 58,
   "metadata": {},
   "outputs": [],
   "source": [
    "result_temp1 = result.copy()\n",
    "result_temp1.iloc[:,2:] = mms1.inverse_transform(result_temp1.iloc[:,2:].values)\n",
    "result_temp2 = result.copy()\n",
    "result_temp2.iloc[:,2:] = mms2.inverse_transform(result_temp2.iloc[:,2:].values)\n",
    "result_temp3 = result.copy()\n",
    "result_temp3.iloc[:,2:] = mms3.inverse_transform(result_temp3.iloc[:,2:].values)\n",
    "result_temp4 = result.copy()\n",
    "result_temp4.iloc[:,2:] = mms4.inverse_transform(result_temp4.iloc[:,2:].values)"
   ]
  },
  {
   "cell_type": "code",
   "execution_count": 59,
   "metadata": {},
   "outputs": [],
   "source": [
    "a=(result_temp2.groupby(['주','주말평일']).mean()/result_temp1.groupby(['주','주말평일']).mean()).reset_index()\n",
    "b=(result_temp3.groupby(['주','주말평일']).mean()/result_temp2.groupby(['주','주말평일']).mean()).reset_index()\n",
    "c=(result_temp4.groupby(['주','주말평일']).mean()/result_temp3.groupby(['주','주말평일']).mean()).reset_index()"
   ]
  },
  {
   "cell_type": "code",
   "execution_count": 60,
   "metadata": {},
   "outputs": [],
   "source": [
    "a.columns = ['주','주말평일']+['1_'+str(i) for i in a.columns[2:]]\n",
    "b.columns = ['주','주말평일']+['2_'+str(i) for i in a.columns[2:]]\n",
    "c.columns = ['주','주말평일']+['3_'+str(i) for i in a.columns[2:]]"
   ]
  },
  {
   "cell_type": "code",
   "execution_count": 62,
   "metadata": {},
   "outputs": [],
   "source": [
    "ratio=a.merge(b,on=['주','주말평일']).merge(c,on=['주','주말평일'])"
   ]
  },
  {
   "cell_type": "code",
   "execution_count": 70,
   "metadata": {},
   "outputs": [
    {
     "data": {
      "text/html": [
       "<div>\n",
       "<style scoped>\n",
       "    .dataframe tbody tr th:only-of-type {\n",
       "        vertical-align: middle;\n",
       "    }\n",
       "\n",
       "    .dataframe tbody tr th {\n",
       "        vertical-align: top;\n",
       "    }\n",
       "\n",
       "    .dataframe thead th {\n",
       "        text-align: right;\n",
       "    }\n",
       "</style>\n",
       "<table border=\"1\" class=\"dataframe\">\n",
       "  <thead>\n",
       "    <tr style=\"text-align: right;\">\n",
       "      <th></th>\n",
       "      <th>1_mean_광진구</th>\n",
       "      <th>2_1_mean_광진구</th>\n",
       "      <th>3_1_mean_광진구</th>\n",
       "    </tr>\n",
       "  </thead>\n",
       "  <tbody>\n",
       "    <tr>\n",
       "      <th>0</th>\n",
       "      <td>1.985938</td>\n",
       "      <td>1.522846</td>\n",
       "      <td>0.717769</td>\n",
       "    </tr>\n",
       "    <tr>\n",
       "      <th>1</th>\n",
       "      <td>1.881138</td>\n",
       "      <td>1.357296</td>\n",
       "      <td>0.818447</td>\n",
       "    </tr>\n",
       "    <tr>\n",
       "      <th>2</th>\n",
       "      <td>1.942809</td>\n",
       "      <td>1.456879</td>\n",
       "      <td>0.755145</td>\n",
       "    </tr>\n",
       "    <tr>\n",
       "      <th>3</th>\n",
       "      <td>1.927543</td>\n",
       "      <td>1.432822</td>\n",
       "      <td>0.769631</td>\n",
       "    </tr>\n",
       "    <tr>\n",
       "      <th>4</th>\n",
       "      <td>1.868303</td>\n",
       "      <td>1.335745</td>\n",
       "      <td>0.833389</td>\n",
       "    </tr>\n",
       "    <tr>\n",
       "      <th>...</th>\n",
       "      <td>...</td>\n",
       "      <td>...</td>\n",
       "      <td>...</td>\n",
       "    </tr>\n",
       "    <tr>\n",
       "      <th>98</th>\n",
       "      <td>1.842421</td>\n",
       "      <td>1.291374</td>\n",
       "      <td>0.865723</td>\n",
       "    </tr>\n",
       "    <tr>\n",
       "      <th>99</th>\n",
       "      <td>1.754952</td>\n",
       "      <td>1.131729</td>\n",
       "      <td>1.003031</td>\n",
       "    </tr>\n",
       "    <tr>\n",
       "      <th>100</th>\n",
       "      <td>1.857867</td>\n",
       "      <td>1.318002</td>\n",
       "      <td>0.846057</td>\n",
       "    </tr>\n",
       "    <tr>\n",
       "      <th>101</th>\n",
       "      <td>1.766143</td>\n",
       "      <td>1.153037</td>\n",
       "      <td>0.982505</td>\n",
       "    </tr>\n",
       "    <tr>\n",
       "      <th>102</th>\n",
       "      <td>1.792404</td>\n",
       "      <td>1.201991</td>\n",
       "      <td>0.938106</td>\n",
       "    </tr>\n",
       "  </tbody>\n",
       "</table>\n",
       "<p>103 rows × 3 columns</p>\n",
       "</div>"
      ],
      "text/plain": [
       "     1_mean_광진구  2_1_mean_광진구  3_1_mean_광진구\n",
       "0      1.985938      1.522846      0.717769\n",
       "1      1.881138      1.357296      0.818447\n",
       "2      1.942809      1.456879      0.755145\n",
       "3      1.927543      1.432822      0.769631\n",
       "4      1.868303      1.335745      0.833389\n",
       "..          ...           ...           ...\n",
       "98     1.842421      1.291374      0.865723\n",
       "99     1.754952      1.131729      1.003031\n",
       "100    1.857867      1.318002      0.846057\n",
       "101    1.766143      1.153037      0.982505\n",
       "102    1.792404      1.201991      0.938106\n",
       "\n",
       "[103 rows x 3 columns]"
      ]
     },
     "execution_count": 70,
     "metadata": {},
     "output_type": "execute_result"
    }
   ],
   "source": [
    "ratio.loc[:,[i for i in ratio.columns if i.endswith('광진구')]]"
   ]
  },
  {
   "cell_type": "code",
   "execution_count": 22,
   "metadata": {},
   "outputs": [],
   "source": [
    "a=ratio.loc[:,[i for i in ratio.columns if i.endswith('광진구')]].mean(axis=1)\n",
    "b=ratio.loc[:,[i for i in ratio.columns if i.endswith('동대문구')]].mean(axis=1)\n",
    "c=ratio.loc[:,[i for i in ratio.columns if i.endswith('성동구')]].mean(axis=1)\n",
    "d=ratio.loc[:,[i for i in ratio.columns if i.endswith('중랑구')]].mean(axis=1)"
   ]
  },
  {
   "cell_type": "code",
   "execution_count": 23,
   "metadata": {},
   "outputs": [],
   "source": [
    "ratio=pd.concat([a,b,c,d],axis=1)"
   ]
  },
  {
   "cell_type": "code",
   "execution_count": 24,
   "metadata": {},
   "outputs": [
    {
     "data": {
      "text/html": [
       "<div>\n",
       "<style scoped>\n",
       "    .dataframe tbody tr th:only-of-type {\n",
       "        vertical-align: middle;\n",
       "    }\n",
       "\n",
       "    .dataframe tbody tr th {\n",
       "        vertical-align: top;\n",
       "    }\n",
       "\n",
       "    .dataframe thead th {\n",
       "        text-align: right;\n",
       "    }\n",
       "</style>\n",
       "<table border=\"1\" class=\"dataframe\">\n",
       "  <thead>\n",
       "    <tr style=\"text-align: right;\">\n",
       "      <th></th>\n",
       "      <th>주</th>\n",
       "      <th>주말평일</th>\n",
       "      <th>mean_광진구</th>\n",
       "      <th>mean_동대문구</th>\n",
       "      <th>mean_성동구</th>\n",
       "      <th>mean_중랑구</th>\n",
       "    </tr>\n",
       "  </thead>\n",
       "  <tbody>\n",
       "    <tr>\n",
       "      <th>0</th>\n",
       "      <td>1</td>\n",
       "      <td>주말</td>\n",
       "      <td>2.354750</td>\n",
       "      <td>2.081679</td>\n",
       "      <td>1.927279</td>\n",
       "      <td>1.309386</td>\n",
       "    </tr>\n",
       "    <tr>\n",
       "      <th>1</th>\n",
       "      <td>1</td>\n",
       "      <td>평일</td>\n",
       "      <td>3.115328</td>\n",
       "      <td>2.676816</td>\n",
       "      <td>2.850890</td>\n",
       "      <td>1.652131</td>\n",
       "    </tr>\n",
       "    <tr>\n",
       "      <th>2</th>\n",
       "      <td>2</td>\n",
       "      <td>주말</td>\n",
       "      <td>2.611259</td>\n",
       "      <td>2.258149</td>\n",
       "      <td>2.111478</td>\n",
       "      <td>1.484104</td>\n",
       "    </tr>\n",
       "    <tr>\n",
       "      <th>3</th>\n",
       "      <td>2</td>\n",
       "      <td>평일</td>\n",
       "      <td>2.718293</td>\n",
       "      <td>2.346412</td>\n",
       "      <td>2.547078</td>\n",
       "      <td>1.460186</td>\n",
       "    </tr>\n",
       "    <tr>\n",
       "      <th>4</th>\n",
       "      <td>3</td>\n",
       "      <td>주말</td>\n",
       "      <td>3.249491</td>\n",
       "      <td>2.643855</td>\n",
       "      <td>2.823316</td>\n",
       "      <td>1.795445</td>\n",
       "    </tr>\n",
       "    <tr>\n",
       "      <th>...</th>\n",
       "      <td>...</td>\n",
       "      <td>...</td>\n",
       "      <td>...</td>\n",
       "      <td>...</td>\n",
       "      <td>...</td>\n",
       "      <td>...</td>\n",
       "    </tr>\n",
       "    <tr>\n",
       "      <th>98</th>\n",
       "      <td>50</td>\n",
       "      <td>주말</td>\n",
       "      <td>3.563438</td>\n",
       "      <td>3.239325</td>\n",
       "      <td>2.922461</td>\n",
       "      <td>2.168124</td>\n",
       "    </tr>\n",
       "    <tr>\n",
       "      <th>99</th>\n",
       "      <td>50</td>\n",
       "      <td>평일</td>\n",
       "      <td>5.406391</td>\n",
       "      <td>4.796311</td>\n",
       "      <td>4.661332</td>\n",
       "      <td>3.032257</td>\n",
       "    </tr>\n",
       "    <tr>\n",
       "      <th>100</th>\n",
       "      <td>51</td>\n",
       "      <td>주말</td>\n",
       "      <td>3.368464</td>\n",
       "      <td>3.020358</td>\n",
       "      <td>2.641571</td>\n",
       "      <td>2.078827</td>\n",
       "    </tr>\n",
       "    <tr>\n",
       "      <th>101</th>\n",
       "      <td>51</td>\n",
       "      <td>평일</td>\n",
       "      <td>5.061588</td>\n",
       "      <td>4.522870</td>\n",
       "      <td>4.532095</td>\n",
       "      <td>2.894529</td>\n",
       "    </tr>\n",
       "    <tr>\n",
       "      <th>102</th>\n",
       "      <td>52</td>\n",
       "      <td>평일</td>\n",
       "      <td>4.410938</td>\n",
       "      <td>3.876750</td>\n",
       "      <td>3.863583</td>\n",
       "      <td>2.548415</td>\n",
       "    </tr>\n",
       "  </tbody>\n",
       "</table>\n",
       "<p>103 rows × 6 columns</p>\n",
       "</div>"
      ],
      "text/plain": [
       "      주 주말평일  mean_광진구  mean_동대문구  mean_성동구  mean_중랑구\n",
       "0     1   주말  2.354750   2.081679  1.927279  1.309386\n",
       "1     1   평일  3.115328   2.676816  2.850890  1.652131\n",
       "2     2   주말  2.611259   2.258149  2.111478  1.484104\n",
       "3     2   평일  2.718293   2.346412  2.547078  1.460186\n",
       "4     3   주말  3.249491   2.643855  2.823316  1.795445\n",
       "..   ..  ...       ...        ...       ...       ...\n",
       "98   50   주말  3.563438   3.239325  2.922461  2.168124\n",
       "99   50   평일  5.406391   4.796311  4.661332  3.032257\n",
       "100  51   주말  3.368464   3.020358  2.641571  2.078827\n",
       "101  51   평일  5.061588   4.522870  4.532095  2.894529\n",
       "102  52   평일  4.410938   3.876750  3.863583  2.548415\n",
       "\n",
       "[103 rows x 6 columns]"
      ]
     },
     "execution_count": 24,
     "metadata": {},
     "output_type": "execute_result"
    }
   ],
   "source": [
    "from sklearn.preprocessing import MinMaxScaler\n",
    "mms = MinMaxScaler()\n",
    "mms.fit(df_2021_week_mean.iloc[:,2:])\n",
    "\n",
    "result_temp = result.copy()\n",
    "\n",
    "result_temp.iloc[:,2:] = mms.inverse_transform(result_temp.iloc[:,2:].values)\n",
    "\n",
    "result_temp"
   ]
  },
  {
   "cell_type": "code",
   "execution_count": 25,
   "metadata": {},
   "outputs": [],
   "source": [
    "# df_2018_week_mean\n",
    "# df_2019_week_mean\n",
    "# df_2020_week_mean\n",
    "# df_2021_week_mean"
   ]
  },
  {
   "cell_type": "code",
   "execution_count": 26,
   "metadata": {},
   "outputs": [],
   "source": [
    "temp_1=pd.merge(df_2018_raw.reset_index(),df_2019_raw.reset_index(),on=['주','주말평일'])\n",
    "temp_2=pd.merge(df_2020_raw.reset_index(),df_2021_raw.reset_index(),on=['주','주말평일'])\n",
    "\n",
    "diff_df=pd.merge(temp_1,temp_2,on=['주','주말평일'])\n",
    "\n",
    "df_diff_광진구=diff_df.loc[:,[i for i in diff_df.columns if i.startswith('광진구')] + ['주','주말평일']].drop_duplicates(['주','주말평일']).reset_index(drop=True)\n",
    "df_diff_동대문구=diff_df.loc[:,[i for i in diff_df.columns if i.startswith('동대문구')] + ['주','주말평일']].drop_duplicates(['주','주말평일']).reset_index(drop=True)\n",
    "df_diff_성동구=diff_df.loc[:,[i for i in diff_df.columns if i.startswith('성동구')] + ['주','주말평일']].drop_duplicates(['주','주말평일']).reset_index(drop=True)\n",
    "df_diff_중랑구=diff_df.loc[:,[i for i in diff_df.columns if i.startswith('중랑구')] + ['주','주말평일']].drop_duplicates(['주','주말평일']).reset_index(drop=True)"
   ]
  },
  {
   "cell_type": "code",
   "execution_count": 27,
   "metadata": {},
   "outputs": [],
   "source": [
    "result_main=result_temp.copy()"
   ]
  },
  {
   "cell_type": "code",
   "execution_count": 28,
   "metadata": {},
   "outputs": [],
   "source": [
    "df_diff_광진구['diff_mean']=df_diff_광진구.iloc[:,:-2].diff(axis=1).fillna(0).mean(axis=1)\n",
    "result_temp=result_temp.merge(df_diff_광진구.iloc[:,-3:],on=['주','주말평일'])\n",
    "result_temp['mean_광진구']=result_temp['mean_광진구'] + result_temp['diff_mean']\n",
    "result_temp.drop('diff_mean',axis=1,inplace=True)\n",
    "\n",
    "df_diff_동대문구['diff_mean']=df_diff_동대문구.iloc[:,:-2].diff(axis=1).fillna(0).mean(axis=1)\n",
    "result_temp=result_temp.merge(df_diff_동대문구.iloc[:,-3:],on=['주','주말평일'])\n",
    "result_temp['mean_동대문구']=result_temp['mean_동대문구'] + result_temp['diff_mean']\n",
    "result_temp.drop('diff_mean',axis=1,inplace=True)\n",
    "\n",
    "df_diff_성동구['diff_mean']=df_diff_성동구.iloc[:,:-2].diff(axis=1).fillna(0).mean(axis=1)\n",
    "result_temp=result_temp.merge(df_diff_성동구.iloc[:,-3:],on=['주','주말평일'])\n",
    "result_temp['mean_성동구']=result_temp['mean_성동구'] + result_temp['diff_mean']\n",
    "result_temp.drop('diff_mean',axis=1,inplace=True)\n",
    "\n",
    "df_diff_중랑구['diff_mean']=df_diff_중랑구.iloc[:,:-2].diff(axis=1).fillna(0).mean(axis=1)\n",
    "result_temp=result_temp.merge(df_diff_중랑구.iloc[:,-3:],on=['주','주말평일'])\n",
    "result_temp['mean_중랑구']=result_temp['mean_중랑구'] + result_temp['diff_mean']\n",
    "result_temp.drop('diff_mean',axis=1,inplace=True)"
   ]
  },
  {
   "cell_type": "code",
   "execution_count": 39,
   "metadata": {},
   "outputs": [
    {
     "data": {
      "text/plain": [
       "0    1.295437\n",
       "1    1.442424\n",
       "2    1.290464\n",
       "3    1.465848\n",
       "dtype: float64"
      ]
     },
     "execution_count": 39,
     "metadata": {},
     "output_type": "execute_result"
    }
   ],
   "source": [
    "ratio.mean()"
   ]
  },
  {
   "cell_type": "code",
   "execution_count": 29,
   "metadata": {},
   "outputs": [],
   "source": [
    "result_temp.iloc[:,2:]=result_temp.iloc[:,2:]*ratio.values"
   ]
  },
  {
   "cell_type": "code",
   "execution_count": 30,
   "metadata": {},
   "outputs": [],
   "source": [
    "main=target.merge(result_temp,on=['주','주말평일']).iloc[:,-4:]"
   ]
  },
  {
   "cell_type": "code",
   "execution_count": 31,
   "metadata": {},
   "outputs": [],
   "source": [
    "import numpy as np\n",
    "def smooth(y, box_pts):\n",
    "    box = np.ones(box_pts)/box_pts\n",
    "    y_smooth = np.convolve(y, box, mode='same')\n",
    "    return y_smooth"
   ]
  },
  {
   "cell_type": "code",
   "execution_count": 36,
   "metadata": {},
   "outputs": [],
   "source": [
    "for col in main.columns:\n",
    "    main[col] = smooth(main[col],5)"
   ]
  },
  {
   "cell_type": "code",
   "execution_count": 33,
   "metadata": {},
   "outputs": [],
   "source": [
    "sample_submission.iloc[:,1:] = (main.values)"
   ]
  },
  {
   "cell_type": "code",
   "execution_count": 37,
   "metadata": {},
   "outputs": [
    {
     "data": {
      "text/plain": [
       "<AxesSubplot: >"
      ]
     },
     "execution_count": 37,
     "metadata": {},
     "output_type": "execute_result"
    },
    {
     "data": {
      "image/png": "[encoded data removed]",
      "text/plain": [
       "<Figure size 640x480 with 1 Axes>"
      ]
     },
     "metadata": {},
     "output_type": "display_data"
    }
   ],
   "source": [
    "(main.iloc[:,3]).plot()\n",
    "df_2021_raw.iloc[:,3].reset_index(drop=True).plot()"
   ]
  },
  {
   "cell_type": "code",
   "execution_count": 82,
   "metadata": {},
   "outputs": [
    {
     "data": {
      "text/plain": [
       "<AxesSubplot: >"
      ]
     },
     "execution_count": 82,
     "metadata": {},
     "output_type": "execute_result"
    },
    {
     "data": {
      "image/png": "[encoded data removed]",
      "text/plain": [
       "<Figure size 640x480 with 1 Axes>"
      ]
     },
     "metadata": {},
     "output_type": "display_data"
    }
   ],
   "source": [
    "(main.iloc[:,3]*1.3).plot()\n",
    "df_2021_raw.iloc[:,3].reset_index(drop=True).plot()"
   ]
  },
  {
   "cell_type": "code",
   "execution_count": null,
   "metadata": {},
   "outputs": [],
   "source": []
  }
 ],
 "metadata": {
  "kernelspec": {
   "display_name": "Python 3.10.6 ('crawling')",
   "language": "python",
   "name": "python3"
  },
  "language_info": {
   "codemirror_mode": {
    "name": "ipython",
    "version": 3
   },
   "file_extension": ".py",
   "mimetype": "text/x-python",
   "name": "python",
   "nbconvert_exporter": "python",
   "pygments_lexer": "ipython3",
   "version": "3.10.6 | packaged by conda-forge | (main, Aug 22 2022, 20:41:22) [Clang 13.0.1 ]"
  },
  "orig_nbformat": 4,
  "vscode": {
   "interpreter": {
    "hash": "10621530bc52bc3dcaea48e2b7ef028942e35d2e6e9c9234a88fefd069caf90f"
   }
  }
 },
 "nbformat": 4,
 "nbformat_minor": 2
}
